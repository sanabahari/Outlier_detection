{
  "nbformat": 4,
  "nbformat_minor": 0,
  "metadata": {
    "colab": {
      "name": "Sana_bahari_assignment#4_Q2.ipynb",
      "version": "0.3.2",
      "provenance": [],
      "collapsed_sections": [
        "6NLAt2ekgikg",
        "4U1AxuRYHOX7",
        "CYCuL9EMvnsD",
        "hOOVrAyY_K8y",
        "NhX0EO6l-E9P",
        "HyePQr3V_puo",
        "_47vllLj-kJi",
        "DUDAQeMg-s9q",
        "zOsr6X0t-z3T",
        "Ra7rlw1c8ht-",
        "Ybh-RsNo9j9M"
      ]
    },
    "kernelspec": {
      "name": "python3",
      "display_name": "Python 3"
    }
  },
  "cells": [
    {
      "cell_type": "markdown",
      "metadata": {
        "id": "6NLAt2ekgikg",
        "colab_type": "text"
      },
      "source": [
        "## Outlier_detection\n",
        "1.   Dataset: Heart Disease UCI dataset from Kaggle\n",
        "2.   link: https://www.kaggle.com/ronitf/heart-disease-uci"
      ]
    },
    {
      "cell_type": "code",
      "metadata": {
        "id": "5vytL6VftOw4",
        "colab_type": "code",
        "outputId": "70dfee7b-a854-466b-f7df-d195193d2124",
        "colab": {
          "base_uri": "https://localhost:8080/",
          "height": 34
        }
      },
      "source": [
        "from google.colab import drive\n",
        "drive.mount('/gdrive')"
      ],
      "execution_count": 0,
      "outputs": [
        {
          "output_type": "stream",
          "text": [
            "Drive already mounted at /gdrive; to attempt to forcibly remount, call drive.mount(\"/gdrive\", force_remount=True).\n"
          ],
          "name": "stdout"
        }
      ]
    },
    {
      "cell_type": "code",
      "metadata": {
        "id": "8p5mY16ytuhi",
        "colab_type": "code",
        "colab": {}
      },
      "source": [
        "# Some standard imports\n",
        "\n",
        "import os\n",
        "\n",
        "# scipy imports\n",
        "# There are several universal functions for numpy arrays that are available through the scipy package\n",
        "import scipy as sc\n",
        "from scipy import stats, integrate\n",
        "from scipy.stats.mstats import mode\n",
        "\n",
        "# numpy imports\n",
        "# pandas depends on numpy\n",
        "import numpy as np\n",
        "np.set_printoptions(precision=4, threshold=500, suppress=True)\n",
        "np.random.seed(12345)\n",
        "np.random.seed(sum(map(ord, \"distributions\")))\n",
        "\n",
        "# pandas imports\n",
        "# The convention is to import pandas package with a pd prefix. \n",
        "# Also, since we most commonly use Series and DataFrame classes from this package, \n",
        "# we import them into the current namespace, so we do not have to refer to them with the pd prefix.\n",
        "import pandas as pd\n",
        "from pandas import Series, DataFrame\n",
        "pd.set_option('display.max_columns', None) # enables showing all columns\n",
        "pd.options.display.max_rows = 25\n",
        "PREVIOUS_MAX_ROWS = pd.options.display.max_rows\n",
        "pd.options.display.notebook_repr_html = True\n",
        "np.set_printoptions(precision=4, suppress=True)\n",
        "\n",
        "# matplotlib imports\n",
        "import matplotlib.pyplot as plt\n",
        "import matplotlib.font_manager\n",
        "#plt.rc('figure', figsize=(10, 6))\n",
        "#plt.subplots(figsize=(10,6))\n",
        "plt.rcParams.update({'figure.figsize': (20, 10), 'figure.dpi': 120})\n",
        "# Prior versions of matplotlib used an implicitly registered datetime converter for a matplotlib plotting method. \n",
        "# The converter is registered by pandas on import. \n",
        "# Future versions of pandas will require you to explicitly register matplotlib converters, as follows:\n",
        "from pandas.plotting import register_matplotlib_converters\n",
        "register_matplotlib_converters()\n",
        "%matplotlib inline\n",
        "\n",
        "import logging\n",
        "logging.basicConfig(format='%(asctime)s : %(levelname)s : %(message)s', level=logging.INFO)\n",
        "\n",
        "# seaborn imports\n",
        "import seaborn as sns\n",
        "sns.set(color_codes=True)\n",
        "\n",
        "# bokeh imports\n",
        "from bokeh.io import output_file, output_notebook, show\n",
        "from bokeh.plotting import figure\n",
        "\n",
        "# ignore warnings\n",
        "import warnings\n",
        "warnings.filterwarnings('ignore')\n",
        "#warnings.filterwarnings(action='once') #enable if needed to see the warning the first time.\n",
        "\n",
        "# logging setup\n",
        "import logging\n",
        "logging.basicConfig(format='%(asctime)s : %(levelname)s : %(message)s', level=logging.INFO)"
      ],
      "execution_count": 0,
      "outputs": []
    },
    {
      "cell_type": "markdown",
      "metadata": {
        "id": "4U1AxuRYHOX7",
        "colab_type": "text"
      },
      "source": [
        "## importing Heart Disease UCI dataset"
      ]
    },
    {
      "cell_type": "code",
      "metadata": {
        "id": "37JyR9OOtTxE",
        "colab_type": "code",
        "outputId": "57425d21-922f-41fb-b369-452469be429b",
        "colab": {
          "base_uri": "https://localhost:8080/",
          "height": 204
        }
      },
      "source": [
        "# reading Heart Disease UCI dataset\n",
        "df = pd.read_csv(\"/gdrive/My Drive/Data-Quality/heart.csv\")\n",
        "df.head()"
      ],
      "execution_count": 0,
      "outputs": [
        {
          "output_type": "execute_result",
          "data": {
            "text/html": [
              "<div>\n",
              "<style scoped>\n",
              "    .dataframe tbody tr th:only-of-type {\n",
              "        vertical-align: middle;\n",
              "    }\n",
              "\n",
              "    .dataframe tbody tr th {\n",
              "        vertical-align: top;\n",
              "    }\n",
              "\n",
              "    .dataframe thead th {\n",
              "        text-align: right;\n",
              "    }\n",
              "</style>\n",
              "<table border=\"1\" class=\"dataframe\">\n",
              "  <thead>\n",
              "    <tr style=\"text-align: right;\">\n",
              "      <th></th>\n",
              "      <th>age</th>\n",
              "      <th>sex</th>\n",
              "      <th>cp</th>\n",
              "      <th>trestbps</th>\n",
              "      <th>chol</th>\n",
              "      <th>fbs</th>\n",
              "      <th>restecg</th>\n",
              "      <th>thalach</th>\n",
              "      <th>exang</th>\n",
              "      <th>oldpeak</th>\n",
              "      <th>slope</th>\n",
              "      <th>ca</th>\n",
              "      <th>thal</th>\n",
              "      <th>target</th>\n",
              "    </tr>\n",
              "  </thead>\n",
              "  <tbody>\n",
              "    <tr>\n",
              "      <th>0</th>\n",
              "      <td>63</td>\n",
              "      <td>1</td>\n",
              "      <td>3</td>\n",
              "      <td>145</td>\n",
              "      <td>233</td>\n",
              "      <td>1</td>\n",
              "      <td>0</td>\n",
              "      <td>150</td>\n",
              "      <td>0</td>\n",
              "      <td>2.3</td>\n",
              "      <td>0</td>\n",
              "      <td>0</td>\n",
              "      <td>1</td>\n",
              "      <td>1</td>\n",
              "    </tr>\n",
              "    <tr>\n",
              "      <th>1</th>\n",
              "      <td>37</td>\n",
              "      <td>1</td>\n",
              "      <td>2</td>\n",
              "      <td>130</td>\n",
              "      <td>250</td>\n",
              "      <td>0</td>\n",
              "      <td>1</td>\n",
              "      <td>187</td>\n",
              "      <td>0</td>\n",
              "      <td>3.5</td>\n",
              "      <td>0</td>\n",
              "      <td>0</td>\n",
              "      <td>2</td>\n",
              "      <td>1</td>\n",
              "    </tr>\n",
              "    <tr>\n",
              "      <th>2</th>\n",
              "      <td>41</td>\n",
              "      <td>0</td>\n",
              "      <td>1</td>\n",
              "      <td>130</td>\n",
              "      <td>204</td>\n",
              "      <td>0</td>\n",
              "      <td>0</td>\n",
              "      <td>172</td>\n",
              "      <td>0</td>\n",
              "      <td>1.4</td>\n",
              "      <td>2</td>\n",
              "      <td>0</td>\n",
              "      <td>2</td>\n",
              "      <td>1</td>\n",
              "    </tr>\n",
              "    <tr>\n",
              "      <th>3</th>\n",
              "      <td>56</td>\n",
              "      <td>1</td>\n",
              "      <td>1</td>\n",
              "      <td>120</td>\n",
              "      <td>236</td>\n",
              "      <td>0</td>\n",
              "      <td>1</td>\n",
              "      <td>178</td>\n",
              "      <td>0</td>\n",
              "      <td>0.8</td>\n",
              "      <td>2</td>\n",
              "      <td>0</td>\n",
              "      <td>2</td>\n",
              "      <td>1</td>\n",
              "    </tr>\n",
              "    <tr>\n",
              "      <th>4</th>\n",
              "      <td>57</td>\n",
              "      <td>0</td>\n",
              "      <td>0</td>\n",
              "      <td>120</td>\n",
              "      <td>354</td>\n",
              "      <td>0</td>\n",
              "      <td>1</td>\n",
              "      <td>163</td>\n",
              "      <td>1</td>\n",
              "      <td>0.6</td>\n",
              "      <td>2</td>\n",
              "      <td>0</td>\n",
              "      <td>2</td>\n",
              "      <td>1</td>\n",
              "    </tr>\n",
              "  </tbody>\n",
              "</table>\n",
              "</div>"
            ],
            "text/plain": [
              "   age  sex  cp  trestbps  chol  fbs  restecg  thalach  exang  oldpeak  slope  \\\n",
              "0   63    1   3       145   233    1        0      150      0      2.3      0   \n",
              "1   37    1   2       130   250    0        1      187      0      3.5      0   \n",
              "2   41    0   1       130   204    0        0      172      0      1.4      2   \n",
              "3   56    1   1       120   236    0        1      178      0      0.8      2   \n",
              "4   57    0   0       120   354    0        1      163      1      0.6      2   \n",
              "\n",
              "   ca  thal  target  \n",
              "0   0     1       1  \n",
              "1   0     2       1  \n",
              "2   0     2       1  \n",
              "3   0     2       1  \n",
              "4   0     2       1  "
            ]
          },
          "metadata": {
            "tags": []
          },
          "execution_count": 111
        }
      ]
    },
    {
      "cell_type": "code",
      "metadata": {
        "id": "pIwPaH9wu_HS",
        "colab_type": "code",
        "outputId": "60d98431-46ee-4d75-d5f1-107870095441",
        "colab": {
          "base_uri": "https://localhost:8080/",
          "height": 297
        }
      },
      "source": [
        "df.describe()"
      ],
      "execution_count": 0,
      "outputs": [
        {
          "output_type": "execute_result",
          "data": {
            "text/html": [
              "<div>\n",
              "<style scoped>\n",
              "    .dataframe tbody tr th:only-of-type {\n",
              "        vertical-align: middle;\n",
              "    }\n",
              "\n",
              "    .dataframe tbody tr th {\n",
              "        vertical-align: top;\n",
              "    }\n",
              "\n",
              "    .dataframe thead th {\n",
              "        text-align: right;\n",
              "    }\n",
              "</style>\n",
              "<table border=\"1\" class=\"dataframe\">\n",
              "  <thead>\n",
              "    <tr style=\"text-align: right;\">\n",
              "      <th></th>\n",
              "      <th>age</th>\n",
              "      <th>sex</th>\n",
              "      <th>cp</th>\n",
              "      <th>trestbps</th>\n",
              "      <th>chol</th>\n",
              "      <th>fbs</th>\n",
              "      <th>restecg</th>\n",
              "      <th>thalach</th>\n",
              "      <th>exang</th>\n",
              "      <th>oldpeak</th>\n",
              "      <th>slope</th>\n",
              "      <th>ca</th>\n",
              "      <th>thal</th>\n",
              "      <th>target</th>\n",
              "    </tr>\n",
              "  </thead>\n",
              "  <tbody>\n",
              "    <tr>\n",
              "      <th>count</th>\n",
              "      <td>303.000000</td>\n",
              "      <td>303.000000</td>\n",
              "      <td>303.000000</td>\n",
              "      <td>303.000000</td>\n",
              "      <td>303.000000</td>\n",
              "      <td>303.000000</td>\n",
              "      <td>303.000000</td>\n",
              "      <td>303.000000</td>\n",
              "      <td>303.000000</td>\n",
              "      <td>303.000000</td>\n",
              "      <td>303.000000</td>\n",
              "      <td>303.000000</td>\n",
              "      <td>303.000000</td>\n",
              "      <td>303.000000</td>\n",
              "    </tr>\n",
              "    <tr>\n",
              "      <th>mean</th>\n",
              "      <td>54.366337</td>\n",
              "      <td>0.683168</td>\n",
              "      <td>0.966997</td>\n",
              "      <td>131.623762</td>\n",
              "      <td>246.264026</td>\n",
              "      <td>0.148515</td>\n",
              "      <td>0.528053</td>\n",
              "      <td>149.646865</td>\n",
              "      <td>0.326733</td>\n",
              "      <td>1.039604</td>\n",
              "      <td>1.399340</td>\n",
              "      <td>0.729373</td>\n",
              "      <td>2.313531</td>\n",
              "      <td>0.544554</td>\n",
              "    </tr>\n",
              "    <tr>\n",
              "      <th>std</th>\n",
              "      <td>9.082101</td>\n",
              "      <td>0.466011</td>\n",
              "      <td>1.032052</td>\n",
              "      <td>17.538143</td>\n",
              "      <td>51.830751</td>\n",
              "      <td>0.356198</td>\n",
              "      <td>0.525860</td>\n",
              "      <td>22.905161</td>\n",
              "      <td>0.469794</td>\n",
              "      <td>1.161075</td>\n",
              "      <td>0.616226</td>\n",
              "      <td>1.022606</td>\n",
              "      <td>0.612277</td>\n",
              "      <td>0.498835</td>\n",
              "    </tr>\n",
              "    <tr>\n",
              "      <th>min</th>\n",
              "      <td>29.000000</td>\n",
              "      <td>0.000000</td>\n",
              "      <td>0.000000</td>\n",
              "      <td>94.000000</td>\n",
              "      <td>126.000000</td>\n",
              "      <td>0.000000</td>\n",
              "      <td>0.000000</td>\n",
              "      <td>71.000000</td>\n",
              "      <td>0.000000</td>\n",
              "      <td>0.000000</td>\n",
              "      <td>0.000000</td>\n",
              "      <td>0.000000</td>\n",
              "      <td>0.000000</td>\n",
              "      <td>0.000000</td>\n",
              "    </tr>\n",
              "    <tr>\n",
              "      <th>25%</th>\n",
              "      <td>47.500000</td>\n",
              "      <td>0.000000</td>\n",
              "      <td>0.000000</td>\n",
              "      <td>120.000000</td>\n",
              "      <td>211.000000</td>\n",
              "      <td>0.000000</td>\n",
              "      <td>0.000000</td>\n",
              "      <td>133.500000</td>\n",
              "      <td>0.000000</td>\n",
              "      <td>0.000000</td>\n",
              "      <td>1.000000</td>\n",
              "      <td>0.000000</td>\n",
              "      <td>2.000000</td>\n",
              "      <td>0.000000</td>\n",
              "    </tr>\n",
              "    <tr>\n",
              "      <th>50%</th>\n",
              "      <td>55.000000</td>\n",
              "      <td>1.000000</td>\n",
              "      <td>1.000000</td>\n",
              "      <td>130.000000</td>\n",
              "      <td>240.000000</td>\n",
              "      <td>0.000000</td>\n",
              "      <td>1.000000</td>\n",
              "      <td>153.000000</td>\n",
              "      <td>0.000000</td>\n",
              "      <td>0.800000</td>\n",
              "      <td>1.000000</td>\n",
              "      <td>0.000000</td>\n",
              "      <td>2.000000</td>\n",
              "      <td>1.000000</td>\n",
              "    </tr>\n",
              "    <tr>\n",
              "      <th>75%</th>\n",
              "      <td>61.000000</td>\n",
              "      <td>1.000000</td>\n",
              "      <td>2.000000</td>\n",
              "      <td>140.000000</td>\n",
              "      <td>274.500000</td>\n",
              "      <td>0.000000</td>\n",
              "      <td>1.000000</td>\n",
              "      <td>166.000000</td>\n",
              "      <td>1.000000</td>\n",
              "      <td>1.600000</td>\n",
              "      <td>2.000000</td>\n",
              "      <td>1.000000</td>\n",
              "      <td>3.000000</td>\n",
              "      <td>1.000000</td>\n",
              "    </tr>\n",
              "    <tr>\n",
              "      <th>max</th>\n",
              "      <td>77.000000</td>\n",
              "      <td>1.000000</td>\n",
              "      <td>3.000000</td>\n",
              "      <td>200.000000</td>\n",
              "      <td>564.000000</td>\n",
              "      <td>1.000000</td>\n",
              "      <td>2.000000</td>\n",
              "      <td>202.000000</td>\n",
              "      <td>1.000000</td>\n",
              "      <td>6.200000</td>\n",
              "      <td>2.000000</td>\n",
              "      <td>4.000000</td>\n",
              "      <td>3.000000</td>\n",
              "      <td>1.000000</td>\n",
              "    </tr>\n",
              "  </tbody>\n",
              "</table>\n",
              "</div>"
            ],
            "text/plain": [
              "              age         sex          cp    trestbps        chol         fbs  \\\n",
              "count  303.000000  303.000000  303.000000  303.000000  303.000000  303.000000   \n",
              "mean    54.366337    0.683168    0.966997  131.623762  246.264026    0.148515   \n",
              "std      9.082101    0.466011    1.032052   17.538143   51.830751    0.356198   \n",
              "min     29.000000    0.000000    0.000000   94.000000  126.000000    0.000000   \n",
              "25%     47.500000    0.000000    0.000000  120.000000  211.000000    0.000000   \n",
              "50%     55.000000    1.000000    1.000000  130.000000  240.000000    0.000000   \n",
              "75%     61.000000    1.000000    2.000000  140.000000  274.500000    0.000000   \n",
              "max     77.000000    1.000000    3.000000  200.000000  564.000000    1.000000   \n",
              "\n",
              "          restecg     thalach       exang     oldpeak       slope          ca  \\\n",
              "count  303.000000  303.000000  303.000000  303.000000  303.000000  303.000000   \n",
              "mean     0.528053  149.646865    0.326733    1.039604    1.399340    0.729373   \n",
              "std      0.525860   22.905161    0.469794    1.161075    0.616226    1.022606   \n",
              "min      0.000000   71.000000    0.000000    0.000000    0.000000    0.000000   \n",
              "25%      0.000000  133.500000    0.000000    0.000000    1.000000    0.000000   \n",
              "50%      1.000000  153.000000    0.000000    0.800000    1.000000    0.000000   \n",
              "75%      1.000000  166.000000    1.000000    1.600000    2.000000    1.000000   \n",
              "max      2.000000  202.000000    1.000000    6.200000    2.000000    4.000000   \n",
              "\n",
              "             thal      target  \n",
              "count  303.000000  303.000000  \n",
              "mean     2.313531    0.544554  \n",
              "std      0.612277    0.498835  \n",
              "min      0.000000    0.000000  \n",
              "25%      2.000000    0.000000  \n",
              "50%      2.000000    1.000000  \n",
              "75%      3.000000    1.000000  \n",
              "max      3.000000    1.000000  "
            ]
          },
          "metadata": {
            "tags": []
          },
          "execution_count": 112
        }
      ]
    },
    {
      "cell_type": "markdown",
      "metadata": {
        "id": "CYCuL9EMvnsD",
        "colab_type": "text"
      },
      "source": [
        "##we drop our binary variables, because there is no outliers in binary features"
      ]
    },
    {
      "cell_type": "code",
      "metadata": {
        "id": "Wl9Gg32BvrvV",
        "colab_type": "code",
        "colab": {}
      },
      "source": [
        "df.drop(columns=['sex','fbs','exang','target'],inplace=True)"
      ],
      "execution_count": 0,
      "outputs": []
    },
    {
      "cell_type": "code",
      "metadata": {
        "id": "4GWkaOhAwCNu",
        "colab_type": "code",
        "outputId": "7d2839aa-ab50-4976-8b91-9dcd4c3bba70",
        "colab": {
          "base_uri": "https://localhost:8080/",
          "height": 297
        }
      },
      "source": [
        "df.describe()"
      ],
      "execution_count": 0,
      "outputs": [
        {
          "output_type": "execute_result",
          "data": {
            "text/html": [
              "<div>\n",
              "<style scoped>\n",
              "    .dataframe tbody tr th:only-of-type {\n",
              "        vertical-align: middle;\n",
              "    }\n",
              "\n",
              "    .dataframe tbody tr th {\n",
              "        vertical-align: top;\n",
              "    }\n",
              "\n",
              "    .dataframe thead th {\n",
              "        text-align: right;\n",
              "    }\n",
              "</style>\n",
              "<table border=\"1\" class=\"dataframe\">\n",
              "  <thead>\n",
              "    <tr style=\"text-align: right;\">\n",
              "      <th></th>\n",
              "      <th>age</th>\n",
              "      <th>cp</th>\n",
              "      <th>trestbps</th>\n",
              "      <th>chol</th>\n",
              "      <th>restecg</th>\n",
              "      <th>thalach</th>\n",
              "      <th>oldpeak</th>\n",
              "      <th>slope</th>\n",
              "      <th>ca</th>\n",
              "      <th>thal</th>\n",
              "    </tr>\n",
              "  </thead>\n",
              "  <tbody>\n",
              "    <tr>\n",
              "      <th>count</th>\n",
              "      <td>303.000000</td>\n",
              "      <td>303.000000</td>\n",
              "      <td>303.000000</td>\n",
              "      <td>303.000000</td>\n",
              "      <td>303.000000</td>\n",
              "      <td>303.000000</td>\n",
              "      <td>303.000000</td>\n",
              "      <td>303.000000</td>\n",
              "      <td>303.000000</td>\n",
              "      <td>303.000000</td>\n",
              "    </tr>\n",
              "    <tr>\n",
              "      <th>mean</th>\n",
              "      <td>54.366337</td>\n",
              "      <td>0.966997</td>\n",
              "      <td>131.623762</td>\n",
              "      <td>246.264026</td>\n",
              "      <td>0.528053</td>\n",
              "      <td>149.646865</td>\n",
              "      <td>1.039604</td>\n",
              "      <td>1.399340</td>\n",
              "      <td>0.729373</td>\n",
              "      <td>2.313531</td>\n",
              "    </tr>\n",
              "    <tr>\n",
              "      <th>std</th>\n",
              "      <td>9.082101</td>\n",
              "      <td>1.032052</td>\n",
              "      <td>17.538143</td>\n",
              "      <td>51.830751</td>\n",
              "      <td>0.525860</td>\n",
              "      <td>22.905161</td>\n",
              "      <td>1.161075</td>\n",
              "      <td>0.616226</td>\n",
              "      <td>1.022606</td>\n",
              "      <td>0.612277</td>\n",
              "    </tr>\n",
              "    <tr>\n",
              "      <th>min</th>\n",
              "      <td>29.000000</td>\n",
              "      <td>0.000000</td>\n",
              "      <td>94.000000</td>\n",
              "      <td>126.000000</td>\n",
              "      <td>0.000000</td>\n",
              "      <td>71.000000</td>\n",
              "      <td>0.000000</td>\n",
              "      <td>0.000000</td>\n",
              "      <td>0.000000</td>\n",
              "      <td>0.000000</td>\n",
              "    </tr>\n",
              "    <tr>\n",
              "      <th>25%</th>\n",
              "      <td>47.500000</td>\n",
              "      <td>0.000000</td>\n",
              "      <td>120.000000</td>\n",
              "      <td>211.000000</td>\n",
              "      <td>0.000000</td>\n",
              "      <td>133.500000</td>\n",
              "      <td>0.000000</td>\n",
              "      <td>1.000000</td>\n",
              "      <td>0.000000</td>\n",
              "      <td>2.000000</td>\n",
              "    </tr>\n",
              "    <tr>\n",
              "      <th>50%</th>\n",
              "      <td>55.000000</td>\n",
              "      <td>1.000000</td>\n",
              "      <td>130.000000</td>\n",
              "      <td>240.000000</td>\n",
              "      <td>1.000000</td>\n",
              "      <td>153.000000</td>\n",
              "      <td>0.800000</td>\n",
              "      <td>1.000000</td>\n",
              "      <td>0.000000</td>\n",
              "      <td>2.000000</td>\n",
              "    </tr>\n",
              "    <tr>\n",
              "      <th>75%</th>\n",
              "      <td>61.000000</td>\n",
              "      <td>2.000000</td>\n",
              "      <td>140.000000</td>\n",
              "      <td>274.500000</td>\n",
              "      <td>1.000000</td>\n",
              "      <td>166.000000</td>\n",
              "      <td>1.600000</td>\n",
              "      <td>2.000000</td>\n",
              "      <td>1.000000</td>\n",
              "      <td>3.000000</td>\n",
              "    </tr>\n",
              "    <tr>\n",
              "      <th>max</th>\n",
              "      <td>77.000000</td>\n",
              "      <td>3.000000</td>\n",
              "      <td>200.000000</td>\n",
              "      <td>564.000000</td>\n",
              "      <td>2.000000</td>\n",
              "      <td>202.000000</td>\n",
              "      <td>6.200000</td>\n",
              "      <td>2.000000</td>\n",
              "      <td>4.000000</td>\n",
              "      <td>3.000000</td>\n",
              "    </tr>\n",
              "  </tbody>\n",
              "</table>\n",
              "</div>"
            ],
            "text/plain": [
              "              age          cp    trestbps        chol     restecg     thalach  \\\n",
              "count  303.000000  303.000000  303.000000  303.000000  303.000000  303.000000   \n",
              "mean    54.366337    0.966997  131.623762  246.264026    0.528053  149.646865   \n",
              "std      9.082101    1.032052   17.538143   51.830751    0.525860   22.905161   \n",
              "min     29.000000    0.000000   94.000000  126.000000    0.000000   71.000000   \n",
              "25%     47.500000    0.000000  120.000000  211.000000    0.000000  133.500000   \n",
              "50%     55.000000    1.000000  130.000000  240.000000    1.000000  153.000000   \n",
              "75%     61.000000    2.000000  140.000000  274.500000    1.000000  166.000000   \n",
              "max     77.000000    3.000000  200.000000  564.000000    2.000000  202.000000   \n",
              "\n",
              "          oldpeak       slope          ca        thal  \n",
              "count  303.000000  303.000000  303.000000  303.000000  \n",
              "mean     1.039604    1.399340    0.729373    2.313531  \n",
              "std      1.161075    0.616226    1.022606    0.612277  \n",
              "min      0.000000    0.000000    0.000000    0.000000  \n",
              "25%      0.000000    1.000000    0.000000    2.000000  \n",
              "50%      0.800000    1.000000    0.000000    2.000000  \n",
              "75%      1.600000    2.000000    1.000000    3.000000  \n",
              "max      6.200000    2.000000    4.000000    3.000000  "
            ]
          },
          "metadata": {
            "tags": []
          },
          "execution_count": 114
        }
      ]
    },
    {
      "cell_type": "markdown",
      "metadata": {
        "id": "hOOVrAyY_K8y",
        "colab_type": "text"
      },
      "source": [
        "## ploting two variables on seaborn to see the distribution"
      ]
    },
    {
      "cell_type": "code",
      "metadata": {
        "id": "ARrd7pTAtrpl",
        "colab_type": "code",
        "outputId": "8f8c97fb-a0d6-474e-94cf-4604dd8514e4",
        "colab": {
          "base_uri": "https://localhost:8080/",
          "height": 634
        }
      },
      "source": [
        "s, ax = plt.subplots(figsize=(10, 10))\n",
        "sns.scatterplot('trestbps','chol', data=df, s=20)"
      ],
      "execution_count": 0,
      "outputs": [
        {
          "output_type": "execute_result",
          "data": {
            "text/plain": [
              "<matplotlib.axes._subplots.AxesSubplot at 0x7fb5d2054128>"
            ]
          },
          "metadata": {
            "tags": []
          },
          "execution_count": 115
        },
        {
          "output_type": "display_data",
          "data": {
            "image/png": "[encoded data removed]",
            "text/plain": [
              "<Figure size 720x720 with 1 Axes>"
            ]
          },
          "metadata": {
            "tags": []
          }
        }
      ]
    },
    {
      "cell_type": "markdown",
      "metadata": {
        "id": "IYJHq16_ufyk",
        "colab_type": "text"
      },
      "source": [
        "The range of \"chol\" is between (126-564) and the range of \"trestbps\" is between (94-200).  Data is not scaled. Now we are going to scal the whole dataset"
      ]
    },
    {
      "cell_type": "markdown",
      "metadata": {
        "id": "NhX0EO6l-E9P",
        "colab_type": "text"
      },
      "source": [
        "## scaling data with MinMaxScaler"
      ]
    },
    {
      "cell_type": "code",
      "metadata": {
        "id": "w-oWQ1IDuaUM",
        "colab_type": "code",
        "colab": {}
      },
      "source": [
        "from sklearn.preprocessing import MinMaxScaler\n",
        "\n",
        "scal = MinMaxScaler(feature_range=(0, 1))\n",
        "df2= scal.fit_transform(df)\n"
      ],
      "execution_count": 0,
      "outputs": []
    },
    {
      "cell_type": "code",
      "metadata": {
        "id": "nNYdDdMXn8YC",
        "colab_type": "code",
        "outputId": "49a3c499-1bd4-4f9c-ebf5-a3ee32195bd6",
        "colab": {
          "base_uri": "https://localhost:8080/",
          "height": 34
        }
      },
      "source": [
        "type(df2)"
      ],
      "execution_count": 0,
      "outputs": [
        {
          "output_type": "execute_result",
          "data": {
            "text/plain": [
              "numpy.ndarray"
            ]
          },
          "metadata": {
            "tags": []
          },
          "execution_count": 108
        }
      ]
    },
    {
      "cell_type": "code",
      "metadata": {
        "id": "Q7huiKEgmRb3",
        "colab_type": "code",
        "colab": {}
      },
      "source": [
        "df2 = pd.DataFrame(df2, columns = df.columns.to_list())"
      ],
      "execution_count": 0,
      "outputs": []
    },
    {
      "cell_type": "code",
      "metadata": {
        "id": "MB3JoyvWxQ8G",
        "colab_type": "code",
        "outputId": "fd5c1081-905e-42f2-a4dc-364525df14b1",
        "colab": {
          "base_uri": "https://localhost:8080/",
          "height": 634
        }
      },
      "source": [
        "s, ax = plt.subplots(figsize=(10, 10))\n",
        "sns.scatterplot('chol','trestbps', data=df2, s=20)"
      ],
      "execution_count": 0,
      "outputs": [
        {
          "output_type": "execute_result",
          "data": {
            "text/plain": [
              "<matplotlib.axes._subplots.AxesSubplot at 0x7fb5d20600f0>"
            ]
          },
          "metadata": {
            "tags": []
          },
          "execution_count": 118
        },
        {
          "output_type": "display_data",
          "data": {
            "image/png": "[encoded data removed]",
            "text/plain": [
              "<Figure size 720x720 with 1 Axes>"
            ]
          },
          "metadata": {
            "tags": []
          }
        }
      ]
    },
    {
      "cell_type": "markdown",
      "metadata": {
        "id": "mGvJU1t0xb38",
        "colab_type": "text"
      },
      "source": [
        "You can see in above fig that our values for these two column are scaled now."
      ]
    },
    {
      "cell_type": "markdown",
      "metadata": {
        "id": "Xlz_v6UUzelL",
        "colab_type": "text"
      },
      "source": [
        "Now we are going to import appropriate models for oulier detection"
      ]
    },
    {
      "cell_type": "code",
      "metadata": {
        "id": "B91A8b7s0VtO",
        "colab_type": "code",
        "outputId": "33d6e2ca-5fcb-4484-9548-6882aa10deb4",
        "colab": {
          "base_uri": "https://localhost:8080/",
          "height": 267
        }
      },
      "source": [
        "! pip install pyod"
      ],
      "execution_count": 0,
      "outputs": [
        {
          "output_type": "stream",
          "text": [
            "Requirement already satisfied: pyod in /usr/local/lib/python3.6/dist-packages (0.6.9)\n",
            "Requirement already satisfied: matplotlib in /usr/local/lib/python3.6/dist-packages (from pyod) (3.0.3)\n",
            "Requirement already satisfied: scikit-learn>=0.19.1 in /usr/local/lib/python3.6/dist-packages (from pyod) (0.20.3)\n",
            "Requirement already satisfied: numba>=0.35 in /usr/local/lib/python3.6/dist-packages (from pyod) (0.40.1)\n",
            "Requirement already satisfied: numpy>=1.13 in /usr/local/lib/python3.6/dist-packages (from pyod) (1.16.3)\n",
            "Requirement already satisfied: scipy>=0.19.1 in /usr/local/lib/python3.6/dist-packages (from pyod) (1.2.1)\n",
            "Requirement already satisfied: cycler>=0.10 in /usr/local/lib/python3.6/dist-packages (from matplotlib->pyod) (0.10.0)\n",
            "Requirement already satisfied: kiwisolver>=1.0.1 in /usr/local/lib/python3.6/dist-packages (from matplotlib->pyod) (1.1.0)\n",
            "Requirement already satisfied: python-dateutil>=2.1 in /usr/local/lib/python3.6/dist-packages (from matplotlib->pyod) (2.5.3)\n",
            "Requirement already satisfied: pyparsing!=2.0.4,!=2.1.2,!=2.1.6,>=2.0.1 in /usr/local/lib/python3.6/dist-packages (from matplotlib->pyod) (2.4.0)\n",
            "Requirement already satisfied: llvmlite>=0.25.0dev0 in /usr/local/lib/python3.6/dist-packages (from numba>=0.35->pyod) (0.28.0)\n",
            "Requirement already satisfied: six in /usr/local/lib/python3.6/dist-packages (from cycler>=0.10->matplotlib->pyod) (1.12.0)\n",
            "Requirement already satisfied: setuptools in /usr/local/lib/python3.6/dist-packages (from kiwisolver>=1.0.1->matplotlib->pyod) (41.0.1)\n"
          ],
          "name": "stdout"
        }
      ]
    },
    {
      "cell_type": "markdown",
      "metadata": {
        "id": "HyePQr3V_puo",
        "colab_type": "text"
      },
      "source": [
        "## import desired outlier detection models/ We fit  models on the ENTIRE DATASET"
      ]
    },
    {
      "cell_type": "code",
      "metadata": {
        "id": "f8utpv7dzdgb",
        "colab_type": "code",
        "colab": {}
      },
      "source": [
        "# Import models\n",
        "from pyod.models.knn import KNN # proximity\n",
        "from pyod.models.abod import ABOD # proximity\n",
        "from pyod.models.cblof import CBLOF # proximity\n",
        "from pyod.models.lof import LOF # proximity\n",
        "from pyod.models.hbos import HBOS # proximity\n",
        "\n",
        "\n",
        "outliers_fraction = 0.05\n",
        "random_state = np.random.RandomState(12345)\n",
        "\n",
        "# Define 4 outlier detection tools to be compared\n",
        "classifiers = {'Angle-based Outlier Detector (ABOD)': ABOD(contamination=outliers_fraction),\n",
        "               'Cluster-based Local Outlier Factor (CBLOF)':CBLOF(contamination=outliers_fraction,check_estimator=False, random_state=random_state),\n",
        "               'Histogram-base Outlier Detection (HBOS)': HBOS(contamination=outliers_fraction),\n",
        "               'K Nearest Neighbors (KNN)': KNN(contamination=outliers_fraction)}"
      ],
      "execution_count": 0,
      "outputs": []
    },
    {
      "cell_type": "markdown",
      "metadata": {
        "id": "_47vllLj-kJi",
        "colab_type": "text"
      },
      "source": [
        "## outlier detection with LOF model"
      ]
    },
    {
      "cell_type": "code",
      "metadata": {
        "id": "KlInWjZH4n8E",
        "colab_type": "code",
        "outputId": "eb3e4e72-4198-48f4-b1a2-471b3b89acc1",
        "colab": {
          "base_uri": "https://localhost:8080/",
          "height": 51
        }
      },
      "source": [
        "# train LOF detector\n",
        "clf_name = 'LOF' \n",
        "clf = LOF()\n",
        "clf.fit(df2)"
      ],
      "execution_count": 0,
      "outputs": [
        {
          "output_type": "execute_result",
          "data": {
            "text/plain": [
              "LOF(algorithm='auto', contamination=0.1, leaf_size=30, metric='minkowski',\n",
              "  metric_params=None, n_jobs=1, n_neighbors=20, p=2)"
            ]
          },
          "metadata": {
            "tags": []
          },
          "execution_count": 122
        }
      ]
    },
    {
      "cell_type": "code",
      "metadata": {
        "id": "QIocsGLF4uTc",
        "colab_type": "code",
        "outputId": "f2da3b1c-2b3a-4321-f1c6-a576991d8ccf",
        "colab": {
          "base_uri": "https://localhost:8080/",
          "height": 663
        }
      },
      "source": [
        "# predict raw anomaly score\n",
        "scores_pred = clf.decision_function(df2)\n",
        "scores_pred"
      ],
      "execution_count": 0,
      "outputs": [
        {
          "output_type": "execute_result",
          "data": {
            "text/plain": [
              "array([1.1818, 1.2067, 0.9852, 0.9707, 1.044 , 1.1024, 0.9806, 0.9951,\n",
              "       1.154 , 1.0684, 1.0197, 1.0057, 0.9715, 1.0257, 1.0378, 1.0348,\n",
              "       1.0183, 1.1964, 1.1272, 1.2134, 0.9901, 0.9856, 1.0278, 1.028 ,\n",
              "       1.2815, 1.2078, 1.0585, 1.1266, 1.0479, 1.0648, 1.011 , 1.0671,\n",
              "       0.9866, 1.0979, 1.0955, 1.1127, 0.9952, 1.0339, 1.0586, 1.033 ,\n",
              "       1.0084, 0.9782, 1.0236, 0.9889, 1.0279, 0.9813, 1.0152, 0.9838,\n",
              "       1.4313, 0.9846, 0.9805, 0.9847, 1.1457, 1.1252, 0.995 , 1.0019,\n",
              "       1.0079, 1.0228, 1.2109, 0.9958, 1.0457, 1.0465, 1.1897, 1.0675,\n",
              "       0.9802, 1.1452, 1.0659, 0.979 , 0.9797, 1.0311, 1.0086, 1.1734,\n",
              "       1.1136, 1.0023, 1.0892, 0.9806, 1.0012, 0.988 , 0.9643, 1.0089,\n",
              "       0.9871, 0.9742, 1.1053, 1.0862, 1.0199, 1.3822, 1.1592, 1.0703,\n",
              "       1.0474, 0.9905, 1.1507, 1.0251, 1.2262, 0.9606, 1.0585, 1.0671,\n",
              "       1.0034, 1.1671, 1.114 , 1.1669, 1.1737, 1.2818, 1.1317, 1.1383,\n",
              "       0.9891, 1.0105, 1.0826, 1.0005, 0.9704, 0.9868, 1.2477, 1.1429,\n",
              "       1.1266, 1.0474, 0.9656, 0.9915, 1.0084, 1.0382, 0.9862, 0.9999,\n",
              "       1.0064, 0.9894, 1.0353, 0.9941, 1.0467, 1.0121, 1.0305, 1.0684,\n",
              "       0.9936, 1.0984, 1.0454, 1.0265, 0.9796, 0.9868, 0.9755, 0.9878,\n",
              "       1.3   , 0.9822, 1.1006, 0.9948, 0.9794, 1.0993, 1.1036, 1.1197,\n",
              "       1.332 , 1.0427, 1.0954, 1.115 , 0.9792, 1.013 , 1.1937, 1.0479,\n",
              "       1.0732, 1.0201, 1.1004, 0.9953, 0.9843, 0.9947, 1.1537, 0.9712,\n",
              "       1.1098, 0.9999, 0.9821, 1.3359, 1.3359, 1.0631, 0.9859, 1.147 ,\n",
              "       0.9717, 1.1457, 1.0337, 1.1509, 0.9886, 1.1931, 0.9768, 1.0477,\n",
              "       1.0692, 1.0515, 1.023 , 1.0664, 0.9871, 1.048 , 0.9948, 1.0328,\n",
              "       0.9941, 1.0024, 1.0517, 0.9768, 1.0152, 1.0552, 0.9873, 1.017 ,\n",
              "       0.9972, 0.9878, 1.0003, 1.2086, 1.0798, 1.0369, 1.005 , 1.1544,\n",
              "       1.002 , 0.9775, 1.0832, 1.0912, 1.4109, 1.0296, 0.9684, 0.9912,\n",
              "       1.1566, 1.0549, 1.0117, 0.9963, 1.0093, 0.9712, 0.9765, 1.0316,\n",
              "       1.0798, 1.0682, 0.9757, 1.0529, 1.0776, 1.3481, 1.03  , 1.3506,\n",
              "       0.9977, 1.1526, 0.9991, 1.0361, 1.0821, 1.0312, 0.9975, 1.0564,\n",
              "       0.9663, 1.1522, 1.0435, 1.0711, 1.0598, 0.9864, 1.1899, 1.0375,\n",
              "       1.1545, 1.0857, 1.0898, 1.0086, 1.0868, 0.9876, 0.9998, 1.2059,\n",
              "       1.3158, 1.1571, 1.0955, 1.2117, 1.0639, 1.0121, 1.0783, 1.0876,\n",
              "       0.9913, 0.9775, 1.026 , 1.1941, 1.125 , 1.0474, 1.0081, 1.0635,\n",
              "       1.0041, 1.0281, 1.4185, 1.2176, 0.9931, 1.1404, 1.0168, 1.0835,\n",
              "       1.0915, 1.0552, 1.0022, 1.0756, 0.9892, 1.0523, 1.044 , 1.0113,\n",
              "       1.1114, 1.2397, 1.112 , 1.1517, 1.0274, 1.0046, 1.1781, 0.9654,\n",
              "       0.9998, 1.0504, 1.0695, 1.622 , 1.1695, 1.0203, 1.2226, 1.1231,\n",
              "       1.0119, 1.1854, 0.9986, 1.0577, 1.0094, 0.9944, 0.9862])"
            ]
          },
          "metadata": {
            "tags": []
          },
          "execution_count": 123
        }
      ]
    },
    {
      "cell_type": "code",
      "metadata": {
        "id": "-_cQItj34zum",
        "colab_type": "code",
        "colab": {}
      },
      "source": [
        "# prediction of a datapoint category outlier or inlier\n",
        "y_pred = clf.predict(df2)\n",
        "\n",
        "n_inliers = len(y_pred) - np.count_nonzero(y_pred)\n",
        "n_outliers = np.count_nonzero(y_pred == 1)"
      ],
      "execution_count": 0,
      "outputs": []
    },
    {
      "cell_type": "code",
      "metadata": {
        "id": "ZWfysV1K47-p",
        "colab_type": "code",
        "outputId": "ce6ee8a3-a3f5-4688-f8bb-60576a509d11",
        "colab": {
          "base_uri": "https://localhost:8080/",
          "height": 34
        }
      },
      "source": [
        "n_inliers, n_outliers"
      ],
      "execution_count": 0,
      "outputs": [
        {
          "output_type": "execute_result",
          "data": {
            "text/plain": [
              "(277, 26)"
            ]
          },
          "metadata": {
            "tags": []
          },
          "execution_count": 125
        }
      ]
    },
    {
      "cell_type": "code",
      "metadata": {
        "id": "QRNvq8qt4--D",
        "colab_type": "code",
        "outputId": "da90f02e-cfae-48f0-a0a7-e8257757fd49",
        "colab": {
          "base_uri": "https://localhost:8080/",
          "height": 359
        }
      },
      "source": [
        "df2[y_pred == 1][:10] # outliers"
      ],
      "execution_count": 0,
      "outputs": [
        {
          "output_type": "execute_result",
          "data": {
            "text/html": [
              "<div>\n",
              "<style scoped>\n",
              "    .dataframe tbody tr th:only-of-type {\n",
              "        vertical-align: middle;\n",
              "    }\n",
              "\n",
              "    .dataframe tbody tr th {\n",
              "        vertical-align: top;\n",
              "    }\n",
              "\n",
              "    .dataframe thead th {\n",
              "        text-align: right;\n",
              "    }\n",
              "</style>\n",
              "<table border=\"1\" class=\"dataframe\">\n",
              "  <thead>\n",
              "    <tr style=\"text-align: right;\">\n",
              "      <th></th>\n",
              "      <th>age</th>\n",
              "      <th>cp</th>\n",
              "      <th>trestbps</th>\n",
              "      <th>chol</th>\n",
              "      <th>restecg</th>\n",
              "      <th>thalach</th>\n",
              "      <th>oldpeak</th>\n",
              "      <th>slope</th>\n",
              "      <th>ca</th>\n",
              "      <th>thal</th>\n",
              "    </tr>\n",
              "  </thead>\n",
              "  <tbody>\n",
              "    <tr>\n",
              "      <th>1</th>\n",
              "      <td>0.166667</td>\n",
              "      <td>0.666667</td>\n",
              "      <td>0.339623</td>\n",
              "      <td>0.283105</td>\n",
              "      <td>0.5</td>\n",
              "      <td>0.885496</td>\n",
              "      <td>0.564516</td>\n",
              "      <td>0.0</td>\n",
              "      <td>0.0</td>\n",
              "      <td>0.666667</td>\n",
              "    </tr>\n",
              "    <tr>\n",
              "      <th>19</th>\n",
              "      <td>0.833333</td>\n",
              "      <td>1.000000</td>\n",
              "      <td>0.433962</td>\n",
              "      <td>0.257991</td>\n",
              "      <td>0.5</td>\n",
              "      <td>0.610687</td>\n",
              "      <td>0.290323</td>\n",
              "      <td>1.0</td>\n",
              "      <td>0.5</td>\n",
              "      <td>0.666667</td>\n",
              "    </tr>\n",
              "    <tr>\n",
              "      <th>24</th>\n",
              "      <td>0.229167</td>\n",
              "      <td>1.000000</td>\n",
              "      <td>0.433962</td>\n",
              "      <td>0.166667</td>\n",
              "      <td>0.5</td>\n",
              "      <td>0.816794</td>\n",
              "      <td>0.225806</td>\n",
              "      <td>1.0</td>\n",
              "      <td>0.0</td>\n",
              "      <td>1.000000</td>\n",
              "    </tr>\n",
              "    <tr>\n",
              "      <th>25</th>\n",
              "      <td>0.875000</td>\n",
              "      <td>0.333333</td>\n",
              "      <td>0.622642</td>\n",
              "      <td>0.401826</td>\n",
              "      <td>0.5</td>\n",
              "      <td>0.694656</td>\n",
              "      <td>0.064516</td>\n",
              "      <td>1.0</td>\n",
              "      <td>0.5</td>\n",
              "      <td>0.666667</td>\n",
              "    </tr>\n",
              "    <tr>\n",
              "      <th>48</th>\n",
              "      <td>0.500000</td>\n",
              "      <td>0.666667</td>\n",
              "      <td>0.320755</td>\n",
              "      <td>0.205479</td>\n",
              "      <td>0.0</td>\n",
              "      <td>0.335878</td>\n",
              "      <td>0.000000</td>\n",
              "      <td>1.0</td>\n",
              "      <td>0.0</td>\n",
              "      <td>0.000000</td>\n",
              "    </tr>\n",
              "    <tr>\n",
              "      <th>58</th>\n",
              "      <td>0.104167</td>\n",
              "      <td>1.000000</td>\n",
              "      <td>0.226415</td>\n",
              "      <td>0.127854</td>\n",
              "      <td>0.0</td>\n",
              "      <td>0.786260</td>\n",
              "      <td>0.000000</td>\n",
              "      <td>1.0</td>\n",
              "      <td>0.0</td>\n",
              "      <td>0.666667</td>\n",
              "    </tr>\n",
              "    <tr>\n",
              "      <th>85</th>\n",
              "      <td>0.791667</td>\n",
              "      <td>0.666667</td>\n",
              "      <td>0.198113</td>\n",
              "      <td>1.000000</td>\n",
              "      <td>0.0</td>\n",
              "      <td>0.679389</td>\n",
              "      <td>0.258065</td>\n",
              "      <td>0.5</td>\n",
              "      <td>0.0</td>\n",
              "      <td>1.000000</td>\n",
              "    </tr>\n",
              "    <tr>\n",
              "      <th>92</th>\n",
              "      <td>0.479167</td>\n",
              "      <td>0.666667</td>\n",
              "      <td>0.415094</td>\n",
              "      <td>0.221461</td>\n",
              "      <td>0.5</td>\n",
              "      <td>0.748092</td>\n",
              "      <td>0.000000</td>\n",
              "      <td>1.0</td>\n",
              "      <td>1.0</td>\n",
              "      <td>0.666667</td>\n",
              "    </tr>\n",
              "    <tr>\n",
              "      <th>101</th>\n",
              "      <td>0.625000</td>\n",
              "      <td>1.000000</td>\n",
              "      <td>0.792453</td>\n",
              "      <td>0.328767</td>\n",
              "      <td>0.0</td>\n",
              "      <td>0.564885</td>\n",
              "      <td>0.677419</td>\n",
              "      <td>0.0</td>\n",
              "      <td>0.0</td>\n",
              "      <td>1.000000</td>\n",
              "    </tr>\n",
              "    <tr>\n",
              "      <th>110</th>\n",
              "      <td>0.729167</td>\n",
              "      <td>0.000000</td>\n",
              "      <td>0.811321</td>\n",
              "      <td>0.454338</td>\n",
              "      <td>0.5</td>\n",
              "      <td>0.633588</td>\n",
              "      <td>0.000000</td>\n",
              "      <td>1.0</td>\n",
              "      <td>0.0</td>\n",
              "      <td>0.666667</td>\n",
              "    </tr>\n",
              "  </tbody>\n",
              "</table>\n",
              "</div>"
            ],
            "text/plain": [
              "          age        cp  trestbps      chol  restecg   thalach   oldpeak  \\\n",
              "1    0.166667  0.666667  0.339623  0.283105      0.5  0.885496  0.564516   \n",
              "19   0.833333  1.000000  0.433962  0.257991      0.5  0.610687  0.290323   \n",
              "24   0.229167  1.000000  0.433962  0.166667      0.5  0.816794  0.225806   \n",
              "25   0.875000  0.333333  0.622642  0.401826      0.5  0.694656  0.064516   \n",
              "48   0.500000  0.666667  0.320755  0.205479      0.0  0.335878  0.000000   \n",
              "58   0.104167  1.000000  0.226415  0.127854      0.0  0.786260  0.000000   \n",
              "85   0.791667  0.666667  0.198113  1.000000      0.0  0.679389  0.258065   \n",
              "92   0.479167  0.666667  0.415094  0.221461      0.5  0.748092  0.000000   \n",
              "101  0.625000  1.000000  0.792453  0.328767      0.0  0.564885  0.677419   \n",
              "110  0.729167  0.000000  0.811321  0.454338      0.5  0.633588  0.000000   \n",
              "\n",
              "     slope   ca      thal  \n",
              "1      0.0  0.0  0.666667  \n",
              "19     1.0  0.5  0.666667  \n",
              "24     1.0  0.0  1.000000  \n",
              "25     1.0  0.5  0.666667  \n",
              "48     1.0  0.0  0.000000  \n",
              "58     1.0  0.0  0.666667  \n",
              "85     0.5  0.0  1.000000  \n",
              "92     1.0  1.0  0.666667  \n",
              "101    0.0  0.0  1.000000  \n",
              "110    1.0  0.0  0.666667  "
            ]
          },
          "metadata": {
            "tags": []
          },
          "execution_count": 126
        }
      ]
    },
    {
      "cell_type": "code",
      "metadata": {
        "id": "nUefO1pm5Pzh",
        "colab_type": "code",
        "outputId": "b145ec04-4013-4edd-e282-c9250140eb07",
        "colab": {
          "base_uri": "https://localhost:8080/",
          "height": 359
        }
      },
      "source": [
        "df2[y_pred == 0][:10] # inliers"
      ],
      "execution_count": 0,
      "outputs": [
        {
          "output_type": "execute_result",
          "data": {
            "text/html": [
              "<div>\n",
              "<style scoped>\n",
              "    .dataframe tbody tr th:only-of-type {\n",
              "        vertical-align: middle;\n",
              "    }\n",
              "\n",
              "    .dataframe tbody tr th {\n",
              "        vertical-align: top;\n",
              "    }\n",
              "\n",
              "    .dataframe thead th {\n",
              "        text-align: right;\n",
              "    }\n",
              "</style>\n",
              "<table border=\"1\" class=\"dataframe\">\n",
              "  <thead>\n",
              "    <tr style=\"text-align: right;\">\n",
              "      <th></th>\n",
              "      <th>age</th>\n",
              "      <th>cp</th>\n",
              "      <th>trestbps</th>\n",
              "      <th>chol</th>\n",
              "      <th>restecg</th>\n",
              "      <th>thalach</th>\n",
              "      <th>oldpeak</th>\n",
              "      <th>slope</th>\n",
              "      <th>ca</th>\n",
              "      <th>thal</th>\n",
              "    </tr>\n",
              "  </thead>\n",
              "  <tbody>\n",
              "    <tr>\n",
              "      <th>0</th>\n",
              "      <td>0.708333</td>\n",
              "      <td>1.000000</td>\n",
              "      <td>0.481132</td>\n",
              "      <td>0.244292</td>\n",
              "      <td>0.0</td>\n",
              "      <td>0.603053</td>\n",
              "      <td>0.370968</td>\n",
              "      <td>0.0</td>\n",
              "      <td>0.0</td>\n",
              "      <td>0.333333</td>\n",
              "    </tr>\n",
              "    <tr>\n",
              "      <th>2</th>\n",
              "      <td>0.250000</td>\n",
              "      <td>0.333333</td>\n",
              "      <td>0.339623</td>\n",
              "      <td>0.178082</td>\n",
              "      <td>0.0</td>\n",
              "      <td>0.770992</td>\n",
              "      <td>0.225806</td>\n",
              "      <td>1.0</td>\n",
              "      <td>0.0</td>\n",
              "      <td>0.666667</td>\n",
              "    </tr>\n",
              "    <tr>\n",
              "      <th>3</th>\n",
              "      <td>0.562500</td>\n",
              "      <td>0.333333</td>\n",
              "      <td>0.245283</td>\n",
              "      <td>0.251142</td>\n",
              "      <td>0.5</td>\n",
              "      <td>0.816794</td>\n",
              "      <td>0.129032</td>\n",
              "      <td>1.0</td>\n",
              "      <td>0.0</td>\n",
              "      <td>0.666667</td>\n",
              "    </tr>\n",
              "    <tr>\n",
              "      <th>4</th>\n",
              "      <td>0.583333</td>\n",
              "      <td>0.000000</td>\n",
              "      <td>0.245283</td>\n",
              "      <td>0.520548</td>\n",
              "      <td>0.5</td>\n",
              "      <td>0.702290</td>\n",
              "      <td>0.096774</td>\n",
              "      <td>1.0</td>\n",
              "      <td>0.0</td>\n",
              "      <td>0.666667</td>\n",
              "    </tr>\n",
              "    <tr>\n",
              "      <th>5</th>\n",
              "      <td>0.583333</td>\n",
              "      <td>0.000000</td>\n",
              "      <td>0.433962</td>\n",
              "      <td>0.150685</td>\n",
              "      <td>0.5</td>\n",
              "      <td>0.587786</td>\n",
              "      <td>0.064516</td>\n",
              "      <td>0.5</td>\n",
              "      <td>0.0</td>\n",
              "      <td>0.333333</td>\n",
              "    </tr>\n",
              "    <tr>\n",
              "      <th>6</th>\n",
              "      <td>0.562500</td>\n",
              "      <td>0.333333</td>\n",
              "      <td>0.433962</td>\n",
              "      <td>0.383562</td>\n",
              "      <td>0.0</td>\n",
              "      <td>0.625954</td>\n",
              "      <td>0.209677</td>\n",
              "      <td>0.5</td>\n",
              "      <td>0.0</td>\n",
              "      <td>0.666667</td>\n",
              "    </tr>\n",
              "    <tr>\n",
              "      <th>7</th>\n",
              "      <td>0.312500</td>\n",
              "      <td>0.333333</td>\n",
              "      <td>0.245283</td>\n",
              "      <td>0.312785</td>\n",
              "      <td>0.5</td>\n",
              "      <td>0.778626</td>\n",
              "      <td>0.000000</td>\n",
              "      <td>1.0</td>\n",
              "      <td>0.0</td>\n",
              "      <td>1.000000</td>\n",
              "    </tr>\n",
              "    <tr>\n",
              "      <th>8</th>\n",
              "      <td>0.479167</td>\n",
              "      <td>0.666667</td>\n",
              "      <td>0.735849</td>\n",
              "      <td>0.166667</td>\n",
              "      <td>0.5</td>\n",
              "      <td>0.694656</td>\n",
              "      <td>0.080645</td>\n",
              "      <td>1.0</td>\n",
              "      <td>0.0</td>\n",
              "      <td>1.000000</td>\n",
              "    </tr>\n",
              "    <tr>\n",
              "      <th>9</th>\n",
              "      <td>0.583333</td>\n",
              "      <td>0.666667</td>\n",
              "      <td>0.528302</td>\n",
              "      <td>0.095890</td>\n",
              "      <td>0.5</td>\n",
              "      <td>0.786260</td>\n",
              "      <td>0.258065</td>\n",
              "      <td>1.0</td>\n",
              "      <td>0.0</td>\n",
              "      <td>0.666667</td>\n",
              "    </tr>\n",
              "    <tr>\n",
              "      <th>10</th>\n",
              "      <td>0.520833</td>\n",
              "      <td>0.000000</td>\n",
              "      <td>0.433962</td>\n",
              "      <td>0.257991</td>\n",
              "      <td>0.5</td>\n",
              "      <td>0.679389</td>\n",
              "      <td>0.193548</td>\n",
              "      <td>1.0</td>\n",
              "      <td>0.0</td>\n",
              "      <td>0.666667</td>\n",
              "    </tr>\n",
              "  </tbody>\n",
              "</table>\n",
              "</div>"
            ],
            "text/plain": [
              "         age        cp  trestbps      chol  restecg   thalach   oldpeak  \\\n",
              "0   0.708333  1.000000  0.481132  0.244292      0.0  0.603053  0.370968   \n",
              "2   0.250000  0.333333  0.339623  0.178082      0.0  0.770992  0.225806   \n",
              "3   0.562500  0.333333  0.245283  0.251142      0.5  0.816794  0.129032   \n",
              "4   0.583333  0.000000  0.245283  0.520548      0.5  0.702290  0.096774   \n",
              "5   0.583333  0.000000  0.433962  0.150685      0.5  0.587786  0.064516   \n",
              "6   0.562500  0.333333  0.433962  0.383562      0.0  0.625954  0.209677   \n",
              "7   0.312500  0.333333  0.245283  0.312785      0.5  0.778626  0.000000   \n",
              "8   0.479167  0.666667  0.735849  0.166667      0.5  0.694656  0.080645   \n",
              "9   0.583333  0.666667  0.528302  0.095890      0.5  0.786260  0.258065   \n",
              "10  0.520833  0.000000  0.433962  0.257991      0.5  0.679389  0.193548   \n",
              "\n",
              "    slope   ca      thal  \n",
              "0     0.0  0.0  0.333333  \n",
              "2     1.0  0.0  0.666667  \n",
              "3     1.0  0.0  0.666667  \n",
              "4     1.0  0.0  0.666667  \n",
              "5     0.5  0.0  0.333333  \n",
              "6     0.5  0.0  0.666667  \n",
              "7     1.0  0.0  1.000000  \n",
              "8     1.0  0.0  1.000000  \n",
              "9     1.0  0.0  0.666667  \n",
              "10    1.0  0.0  0.666667  "
            ]
          },
          "metadata": {
            "tags": []
          },
          "execution_count": 127
        }
      ]
    },
    {
      "cell_type": "markdown",
      "metadata": {
        "id": "DUDAQeMg-s9q",
        "colab_type": "text"
      },
      "source": [
        "##outlier detection with KNN model"
      ]
    },
    {
      "cell_type": "code",
      "metadata": {
        "id": "iAm3DMCO5T7T",
        "colab_type": "code",
        "outputId": "65c9b5a2-2981-4b8f-f400-ee175afac9a8",
        "colab": {
          "base_uri": "https://localhost:8080/",
          "height": 68
        }
      },
      "source": [
        "# train KNN detector\n",
        "clf_name = 'KNN' \n",
        "clf = KNN()\n",
        "clf.fit(df2)"
      ],
      "execution_count": 0,
      "outputs": [
        {
          "output_type": "execute_result",
          "data": {
            "text/plain": [
              "KNN(algorithm='auto', contamination=0.1, leaf_size=30, method='largest',\n",
              "  metric='minkowski', metric_params=None, n_jobs=1, n_neighbors=5, p=2,\n",
              "  radius=1.0)"
            ]
          },
          "metadata": {
            "tags": []
          },
          "execution_count": 128
        }
      ]
    },
    {
      "cell_type": "code",
      "metadata": {
        "id": "YoSJBBu85xG0",
        "colab_type": "code",
        "outputId": "86f8d9ea-43d5-4dc6-b251-1f8709b231ea",
        "colab": {
          "base_uri": "https://localhost:8080/",
          "height": 663
        }
      },
      "source": [
        "# predict raw anomaly score\n",
        "scores_pred = clf.decision_function(df2)\n",
        "scores_pred"
      ],
      "execution_count": 0,
      "outputs": [
        {
          "output_type": "execute_result",
          "data": {
            "text/plain": [
              "array([0.6696, 0.6949, 0.4285, 0.2443, 0.3677, 0.4027, 0.3509, 0.3539,\n",
              "       0.4582, 0.3932, 0.344 , 0.2816, 0.2   , 0.4962, 0.4246, 0.321 ,\n",
              "       0.3225, 0.7647, 0.3406, 0.5818, 0.4167, 0.2018, 0.346 , 0.5128,\n",
              "       0.5637, 0.597 , 0.38  , 0.3503, 0.5117, 0.5611, 0.3205, 0.3919,\n",
              "       0.3522, 0.6105, 0.5187, 0.5652, 0.2717, 0.4688, 0.3731, 0.448 ,\n",
              "       0.4158, 0.3509, 0.4768, 0.3058, 0.3839, 0.2344, 0.3082, 0.262 ,\n",
              "       0.7724, 0.2754, 0.2702, 0.3772, 0.5508, 0.3382, 0.3386, 0.3283,\n",
              "       0.2716, 0.2993, 0.5191, 0.3306, 0.5178, 0.3781, 0.6297, 0.4996,\n",
              "       0.3181, 0.4348, 0.3608, 0.3667, 0.1865, 0.3594, 0.4315, 0.465 ,\n",
              "       0.5009, 0.267 , 0.2751, 0.2866, 0.3931, 0.274 , 0.2423, 0.4383,\n",
              "       0.2101, 0.383 , 0.4441, 0.6103, 0.4119, 0.8073, 0.4992, 0.3574,\n",
              "       0.3452, 0.3587, 0.4659, 0.3085, 0.5677, 0.3429, 0.4455, 0.5028,\n",
              "       0.4243, 0.5254, 0.4475, 0.5677, 0.6208, 0.8067, 0.5012, 0.6391,\n",
              "       0.2048, 0.5356, 0.5358, 0.3921, 0.2362, 0.2955, 0.5841, 0.5163,\n",
              "       0.4162, 0.3712, 0.2362, 0.2224, 0.4537, 0.4544, 0.2666, 0.3973,\n",
              "       0.4613, 0.2979, 0.3022, 0.3204, 0.3127, 0.3373, 0.3712, 0.4069,\n",
              "       0.4023, 0.4659, 0.3938, 0.4206, 0.2205, 0.2343, 0.2343, 0.2893,\n",
              "       0.5603, 0.4091, 0.458 , 0.3724, 0.2745, 0.5645, 0.3258, 0.5241,\n",
              "       0.7662, 0.4659, 0.3604, 0.435 , 0.1498, 0.2637, 0.6708, 0.482 ,\n",
              "       0.4834, 0.4433, 0.3874, 0.3721, 0.2044, 0.2525, 0.6846, 0.4542,\n",
              "       0.6305, 0.2797, 0.2342, 0.6649, 0.6649, 0.5159, 0.3159, 0.6521,\n",
              "       0.3211, 0.6191, 0.5524, 0.6709, 0.3875, 0.6736, 0.2573, 0.4726,\n",
              "       0.389 , 0.3289, 0.4088, 0.4899, 0.3838, 0.4251, 0.3065, 0.4598,\n",
              "       0.3969, 0.3579, 0.3319, 0.3487, 0.4875, 0.4492, 0.3378, 0.3451,\n",
              "       0.3458, 0.3154, 0.4676, 0.6178, 0.6   , 0.5204, 0.3811, 0.5843,\n",
              "       0.3376, 0.2917, 0.546 , 0.5875, 0.8415, 0.2994, 0.3685, 0.3024,\n",
              "       0.6222, 0.3306, 0.4035, 0.4596, 0.4786, 0.3848, 0.3692, 0.4803,\n",
              "       0.5825, 0.5772, 0.2997, 0.5095, 0.5387, 0.7576, 0.542 , 0.754 ,\n",
              "       0.4003, 0.6865, 0.4869, 0.5246, 0.5358, 0.5149, 0.2484, 0.4363,\n",
              "       0.3984, 0.6451, 0.5058, 0.403 , 0.5059, 0.3411, 0.59  , 0.4765,\n",
              "       0.6725, 0.4903, 0.4262, 0.4136, 0.4568, 0.3959, 0.4207, 0.7418,\n",
              "       0.7122, 0.6748, 0.5627, 0.6116, 0.5428, 0.4982, 0.5105, 0.517 ,\n",
              "       0.2704, 0.3984, 0.3994, 0.6659, 0.6463, 0.3704, 0.3842, 0.5673,\n",
              "       0.4119, 0.4753, 0.8073, 0.674 , 0.4527, 0.5748, 0.396 , 0.598 ,\n",
              "       0.5375, 0.3753, 0.3587, 0.3719, 0.3732, 0.3699, 0.4911, 0.4568,\n",
              "       0.5451, 0.582 , 0.5407, 0.4275, 0.4884, 0.4329, 0.5296, 0.4124,\n",
              "       0.4503, 0.5657, 0.3319, 1.0237, 0.5588, 0.4245, 0.7159, 0.5828,\n",
              "       0.4027, 0.5321, 0.3721, 0.5548, 0.5202, 0.4052, 0.3988])"
            ]
          },
          "metadata": {
            "tags": []
          },
          "execution_count": 129
        }
      ]
    },
    {
      "cell_type": "code",
      "metadata": {
        "id": "u1XBnW-45tgK",
        "colab_type": "code",
        "colab": {}
      },
      "source": [
        "# prediction of a datapoint category outlier or inlier\n",
        "y_pred = clf.predict(df2)\n",
        "\n",
        "n_inliers = len(y_pred) - np.count_nonzero(y_pred)\n",
        "n_outliers = np.count_nonzero(y_pred == 1)\n",
        "\n"
      ],
      "execution_count": 0,
      "outputs": []
    },
    {
      "cell_type": "code",
      "metadata": {
        "id": "y7ksSQWS5tUA",
        "colab_type": "code",
        "outputId": "11bb1110-641a-4c15-a43c-95ab3c96bbaa",
        "colab": {
          "base_uri": "https://localhost:8080/",
          "height": 34
        }
      },
      "source": [
        "n_inliers, n_outliers"
      ],
      "execution_count": 0,
      "outputs": [
        {
          "output_type": "execute_result",
          "data": {
            "text/plain": [
              "(277, 26)"
            ]
          },
          "metadata": {
            "tags": []
          },
          "execution_count": 131
        }
      ]
    },
    {
      "cell_type": "code",
      "metadata": {
        "id": "jbqmJ7-E5tJN",
        "colab_type": "code",
        "outputId": "53d03f05-86a6-42ab-dce4-1eddd539096f",
        "colab": {
          "base_uri": "https://localhost:8080/",
          "height": 359
        }
      },
      "source": [
        "df2[y_pred == 1][:10] # outliers"
      ],
      "execution_count": 0,
      "outputs": [
        {
          "output_type": "execute_result",
          "data": {
            "text/html": [
              "<div>\n",
              "<style scoped>\n",
              "    .dataframe tbody tr th:only-of-type {\n",
              "        vertical-align: middle;\n",
              "    }\n",
              "\n",
              "    .dataframe tbody tr th {\n",
              "        vertical-align: top;\n",
              "    }\n",
              "\n",
              "    .dataframe thead th {\n",
              "        text-align: right;\n",
              "    }\n",
              "</style>\n",
              "<table border=\"1\" class=\"dataframe\">\n",
              "  <thead>\n",
              "    <tr style=\"text-align: right;\">\n",
              "      <th></th>\n",
              "      <th>age</th>\n",
              "      <th>cp</th>\n",
              "      <th>trestbps</th>\n",
              "      <th>chol</th>\n",
              "      <th>restecg</th>\n",
              "      <th>thalach</th>\n",
              "      <th>oldpeak</th>\n",
              "      <th>slope</th>\n",
              "      <th>ca</th>\n",
              "      <th>thal</th>\n",
              "    </tr>\n",
              "  </thead>\n",
              "  <tbody>\n",
              "    <tr>\n",
              "      <th>0</th>\n",
              "      <td>0.708333</td>\n",
              "      <td>1.000000</td>\n",
              "      <td>0.481132</td>\n",
              "      <td>0.244292</td>\n",
              "      <td>0.0</td>\n",
              "      <td>0.603053</td>\n",
              "      <td>0.370968</td>\n",
              "      <td>0.0</td>\n",
              "      <td>0.0</td>\n",
              "      <td>0.333333</td>\n",
              "    </tr>\n",
              "    <tr>\n",
              "      <th>1</th>\n",
              "      <td>0.166667</td>\n",
              "      <td>0.666667</td>\n",
              "      <td>0.339623</td>\n",
              "      <td>0.283105</td>\n",
              "      <td>0.5</td>\n",
              "      <td>0.885496</td>\n",
              "      <td>0.564516</td>\n",
              "      <td>0.0</td>\n",
              "      <td>0.0</td>\n",
              "      <td>0.666667</td>\n",
              "    </tr>\n",
              "    <tr>\n",
              "      <th>17</th>\n",
              "      <td>0.770833</td>\n",
              "      <td>1.000000</td>\n",
              "      <td>0.528302</td>\n",
              "      <td>0.228311</td>\n",
              "      <td>0.5</td>\n",
              "      <td>0.328244</td>\n",
              "      <td>0.419355</td>\n",
              "      <td>0.0</td>\n",
              "      <td>0.0</td>\n",
              "      <td>0.666667</td>\n",
              "    </tr>\n",
              "    <tr>\n",
              "      <th>48</th>\n",
              "      <td>0.500000</td>\n",
              "      <td>0.666667</td>\n",
              "      <td>0.320755</td>\n",
              "      <td>0.205479</td>\n",
              "      <td>0.0</td>\n",
              "      <td>0.335878</td>\n",
              "      <td>0.000000</td>\n",
              "      <td>1.0</td>\n",
              "      <td>0.0</td>\n",
              "      <td>0.000000</td>\n",
              "    </tr>\n",
              "    <tr>\n",
              "      <th>85</th>\n",
              "      <td>0.791667</td>\n",
              "      <td>0.666667</td>\n",
              "      <td>0.198113</td>\n",
              "      <td>1.000000</td>\n",
              "      <td>0.0</td>\n",
              "      <td>0.679389</td>\n",
              "      <td>0.258065</td>\n",
              "      <td>0.5</td>\n",
              "      <td>0.0</td>\n",
              "      <td>1.000000</td>\n",
              "    </tr>\n",
              "    <tr>\n",
              "      <th>101</th>\n",
              "      <td>0.625000</td>\n",
              "      <td>1.000000</td>\n",
              "      <td>0.792453</td>\n",
              "      <td>0.328767</td>\n",
              "      <td>0.0</td>\n",
              "      <td>0.564885</td>\n",
              "      <td>0.677419</td>\n",
              "      <td>0.0</td>\n",
              "      <td>0.0</td>\n",
              "      <td>1.000000</td>\n",
              "    </tr>\n",
              "    <tr>\n",
              "      <th>144</th>\n",
              "      <td>0.979167</td>\n",
              "      <td>0.666667</td>\n",
              "      <td>0.433962</td>\n",
              "      <td>0.162100</td>\n",
              "      <td>1.0</td>\n",
              "      <td>0.343511</td>\n",
              "      <td>0.177419</td>\n",
              "      <td>0.5</td>\n",
              "      <td>0.0</td>\n",
              "      <td>0.666667</td>\n",
              "    </tr>\n",
              "    <tr>\n",
              "      <th>150</th>\n",
              "      <td>0.770833</td>\n",
              "      <td>0.000000</td>\n",
              "      <td>0.622642</td>\n",
              "      <td>0.232877</td>\n",
              "      <td>0.0</td>\n",
              "      <td>0.511450</td>\n",
              "      <td>0.370968</td>\n",
              "      <td>1.0</td>\n",
              "      <td>0.0</td>\n",
              "      <td>0.333333</td>\n",
              "    </tr>\n",
              "    <tr>\n",
              "      <th>158</th>\n",
              "      <td>0.604167</td>\n",
              "      <td>0.333333</td>\n",
              "      <td>0.292453</td>\n",
              "      <td>0.214612</td>\n",
              "      <td>0.5</td>\n",
              "      <td>0.557252</td>\n",
              "      <td>0.064516</td>\n",
              "      <td>0.5</td>\n",
              "      <td>1.0</td>\n",
              "      <td>1.000000</td>\n",
              "    </tr>\n",
              "    <tr>\n",
              "      <th>163</th>\n",
              "      <td>0.187500</td>\n",
              "      <td>0.666667</td>\n",
              "      <td>0.415094</td>\n",
              "      <td>0.111872</td>\n",
              "      <td>0.5</td>\n",
              "      <td>0.778626</td>\n",
              "      <td>0.000000</td>\n",
              "      <td>1.0</td>\n",
              "      <td>1.0</td>\n",
              "      <td>0.666667</td>\n",
              "    </tr>\n",
              "  </tbody>\n",
              "</table>\n",
              "</div>"
            ],
            "text/plain": [
              "          age        cp  trestbps      chol  restecg   thalach   oldpeak  \\\n",
              "0    0.708333  1.000000  0.481132  0.244292      0.0  0.603053  0.370968   \n",
              "1    0.166667  0.666667  0.339623  0.283105      0.5  0.885496  0.564516   \n",
              "17   0.770833  1.000000  0.528302  0.228311      0.5  0.328244  0.419355   \n",
              "48   0.500000  0.666667  0.320755  0.205479      0.0  0.335878  0.000000   \n",
              "85   0.791667  0.666667  0.198113  1.000000      0.0  0.679389  0.258065   \n",
              "101  0.625000  1.000000  0.792453  0.328767      0.0  0.564885  0.677419   \n",
              "144  0.979167  0.666667  0.433962  0.162100      1.0  0.343511  0.177419   \n",
              "150  0.770833  0.000000  0.622642  0.232877      0.0  0.511450  0.370968   \n",
              "158  0.604167  0.333333  0.292453  0.214612      0.5  0.557252  0.064516   \n",
              "163  0.187500  0.666667  0.415094  0.111872      0.5  0.778626  0.000000   \n",
              "\n",
              "     slope   ca      thal  \n",
              "0      0.0  0.0  0.333333  \n",
              "1      0.0  0.0  0.666667  \n",
              "17     0.0  0.0  0.666667  \n",
              "48     1.0  0.0  0.000000  \n",
              "85     0.5  0.0  1.000000  \n",
              "101    0.0  0.0  1.000000  \n",
              "144    0.5  0.0  0.666667  \n",
              "150    1.0  0.0  0.333333  \n",
              "158    0.5  1.0  1.000000  \n",
              "163    1.0  1.0  0.666667  "
            ]
          },
          "metadata": {
            "tags": []
          },
          "execution_count": 132
        }
      ]
    },
    {
      "cell_type": "code",
      "metadata": {
        "id": "zIU5FYL25s-4",
        "colab_type": "code",
        "outputId": "dfc84502-593c-4c32-c9d1-d06e4b3c157a",
        "colab": {
          "base_uri": "https://localhost:8080/",
          "height": 359
        }
      },
      "source": [
        "df2[y_pred == 0][:10] # inliers"
      ],
      "execution_count": 0,
      "outputs": [
        {
          "output_type": "execute_result",
          "data": {
            "text/html": [
              "<div>\n",
              "<style scoped>\n",
              "    .dataframe tbody tr th:only-of-type {\n",
              "        vertical-align: middle;\n",
              "    }\n",
              "\n",
              "    .dataframe tbody tr th {\n",
              "        vertical-align: top;\n",
              "    }\n",
              "\n",
              "    .dataframe thead th {\n",
              "        text-align: right;\n",
              "    }\n",
              "</style>\n",
              "<table border=\"1\" class=\"dataframe\">\n",
              "  <thead>\n",
              "    <tr style=\"text-align: right;\">\n",
              "      <th></th>\n",
              "      <th>age</th>\n",
              "      <th>cp</th>\n",
              "      <th>trestbps</th>\n",
              "      <th>chol</th>\n",
              "      <th>restecg</th>\n",
              "      <th>thalach</th>\n",
              "      <th>oldpeak</th>\n",
              "      <th>slope</th>\n",
              "      <th>ca</th>\n",
              "      <th>thal</th>\n",
              "    </tr>\n",
              "  </thead>\n",
              "  <tbody>\n",
              "    <tr>\n",
              "      <th>2</th>\n",
              "      <td>0.250000</td>\n",
              "      <td>0.333333</td>\n",
              "      <td>0.339623</td>\n",
              "      <td>0.178082</td>\n",
              "      <td>0.0</td>\n",
              "      <td>0.770992</td>\n",
              "      <td>0.225806</td>\n",
              "      <td>1.0</td>\n",
              "      <td>0.0</td>\n",
              "      <td>0.666667</td>\n",
              "    </tr>\n",
              "    <tr>\n",
              "      <th>3</th>\n",
              "      <td>0.562500</td>\n",
              "      <td>0.333333</td>\n",
              "      <td>0.245283</td>\n",
              "      <td>0.251142</td>\n",
              "      <td>0.5</td>\n",
              "      <td>0.816794</td>\n",
              "      <td>0.129032</td>\n",
              "      <td>1.0</td>\n",
              "      <td>0.0</td>\n",
              "      <td>0.666667</td>\n",
              "    </tr>\n",
              "    <tr>\n",
              "      <th>4</th>\n",
              "      <td>0.583333</td>\n",
              "      <td>0.000000</td>\n",
              "      <td>0.245283</td>\n",
              "      <td>0.520548</td>\n",
              "      <td>0.5</td>\n",
              "      <td>0.702290</td>\n",
              "      <td>0.096774</td>\n",
              "      <td>1.0</td>\n",
              "      <td>0.0</td>\n",
              "      <td>0.666667</td>\n",
              "    </tr>\n",
              "    <tr>\n",
              "      <th>5</th>\n",
              "      <td>0.583333</td>\n",
              "      <td>0.000000</td>\n",
              "      <td>0.433962</td>\n",
              "      <td>0.150685</td>\n",
              "      <td>0.5</td>\n",
              "      <td>0.587786</td>\n",
              "      <td>0.064516</td>\n",
              "      <td>0.5</td>\n",
              "      <td>0.0</td>\n",
              "      <td>0.333333</td>\n",
              "    </tr>\n",
              "    <tr>\n",
              "      <th>6</th>\n",
              "      <td>0.562500</td>\n",
              "      <td>0.333333</td>\n",
              "      <td>0.433962</td>\n",
              "      <td>0.383562</td>\n",
              "      <td>0.0</td>\n",
              "      <td>0.625954</td>\n",
              "      <td>0.209677</td>\n",
              "      <td>0.5</td>\n",
              "      <td>0.0</td>\n",
              "      <td>0.666667</td>\n",
              "    </tr>\n",
              "    <tr>\n",
              "      <th>7</th>\n",
              "      <td>0.312500</td>\n",
              "      <td>0.333333</td>\n",
              "      <td>0.245283</td>\n",
              "      <td>0.312785</td>\n",
              "      <td>0.5</td>\n",
              "      <td>0.778626</td>\n",
              "      <td>0.000000</td>\n",
              "      <td>1.0</td>\n",
              "      <td>0.0</td>\n",
              "      <td>1.000000</td>\n",
              "    </tr>\n",
              "    <tr>\n",
              "      <th>8</th>\n",
              "      <td>0.479167</td>\n",
              "      <td>0.666667</td>\n",
              "      <td>0.735849</td>\n",
              "      <td>0.166667</td>\n",
              "      <td>0.5</td>\n",
              "      <td>0.694656</td>\n",
              "      <td>0.080645</td>\n",
              "      <td>1.0</td>\n",
              "      <td>0.0</td>\n",
              "      <td>1.000000</td>\n",
              "    </tr>\n",
              "    <tr>\n",
              "      <th>9</th>\n",
              "      <td>0.583333</td>\n",
              "      <td>0.666667</td>\n",
              "      <td>0.528302</td>\n",
              "      <td>0.095890</td>\n",
              "      <td>0.5</td>\n",
              "      <td>0.786260</td>\n",
              "      <td>0.258065</td>\n",
              "      <td>1.0</td>\n",
              "      <td>0.0</td>\n",
              "      <td>0.666667</td>\n",
              "    </tr>\n",
              "    <tr>\n",
              "      <th>10</th>\n",
              "      <td>0.520833</td>\n",
              "      <td>0.000000</td>\n",
              "      <td>0.433962</td>\n",
              "      <td>0.257991</td>\n",
              "      <td>0.5</td>\n",
              "      <td>0.679389</td>\n",
              "      <td>0.193548</td>\n",
              "      <td>1.0</td>\n",
              "      <td>0.0</td>\n",
              "      <td>0.666667</td>\n",
              "    </tr>\n",
              "    <tr>\n",
              "      <th>11</th>\n",
              "      <td>0.395833</td>\n",
              "      <td>0.666667</td>\n",
              "      <td>0.339623</td>\n",
              "      <td>0.340183</td>\n",
              "      <td>0.5</td>\n",
              "      <td>0.519084</td>\n",
              "      <td>0.032258</td>\n",
              "      <td>1.0</td>\n",
              "      <td>0.0</td>\n",
              "      <td>0.666667</td>\n",
              "    </tr>\n",
              "  </tbody>\n",
              "</table>\n",
              "</div>"
            ],
            "text/plain": [
              "         age        cp  trestbps      chol  restecg   thalach   oldpeak  \\\n",
              "2   0.250000  0.333333  0.339623  0.178082      0.0  0.770992  0.225806   \n",
              "3   0.562500  0.333333  0.245283  0.251142      0.5  0.816794  0.129032   \n",
              "4   0.583333  0.000000  0.245283  0.520548      0.5  0.702290  0.096774   \n",
              "5   0.583333  0.000000  0.433962  0.150685      0.5  0.587786  0.064516   \n",
              "6   0.562500  0.333333  0.433962  0.383562      0.0  0.625954  0.209677   \n",
              "7   0.312500  0.333333  0.245283  0.312785      0.5  0.778626  0.000000   \n",
              "8   0.479167  0.666667  0.735849  0.166667      0.5  0.694656  0.080645   \n",
              "9   0.583333  0.666667  0.528302  0.095890      0.5  0.786260  0.258065   \n",
              "10  0.520833  0.000000  0.433962  0.257991      0.5  0.679389  0.193548   \n",
              "11  0.395833  0.666667  0.339623  0.340183      0.5  0.519084  0.032258   \n",
              "\n",
              "    slope   ca      thal  \n",
              "2     1.0  0.0  0.666667  \n",
              "3     1.0  0.0  0.666667  \n",
              "4     1.0  0.0  0.666667  \n",
              "5     0.5  0.0  0.333333  \n",
              "6     0.5  0.0  0.666667  \n",
              "7     1.0  0.0  1.000000  \n",
              "8     1.0  0.0  1.000000  \n",
              "9     1.0  0.0  0.666667  \n",
              "10    1.0  0.0  0.666667  \n",
              "11    1.0  0.0  0.666667  "
            ]
          },
          "metadata": {
            "tags": []
          },
          "execution_count": 133
        }
      ]
    },
    {
      "cell_type": "markdown",
      "metadata": {
        "id": "zOsr6X0t-z3T",
        "colab_type": "text"
      },
      "source": [
        "##outlier detection with ABOD model"
      ]
    },
    {
      "cell_type": "code",
      "metadata": {
        "id": "JB85sgMY4IVM",
        "colab_type": "code",
        "outputId": "3cfdc527-ab4f-4842-8d84-2f7a4b7eb18d",
        "colab": {
          "base_uri": "https://localhost:8080/",
          "height": 34
        }
      },
      "source": [
        "# train ABOD detector\n",
        "clf_name = 'ABOD' \n",
        "clf = ABOD()\n",
        "clf.fit(df2)"
      ],
      "execution_count": 0,
      "outputs": [
        {
          "output_type": "execute_result",
          "data": {
            "text/plain": [
              "ABOD(contamination=0.1, method='fast', n_neighbors=5)"
            ]
          },
          "metadata": {
            "tags": []
          },
          "execution_count": 134
        }
      ]
    },
    {
      "cell_type": "code",
      "metadata": {
        "id": "uD8WGo6w74Ra",
        "colab_type": "code",
        "outputId": "950b4c49-fa21-4f82-f0e4-c70b3d32d08e",
        "colab": {
          "base_uri": "https://localhost:8080/",
          "height": 884
        }
      },
      "source": [
        "# predict raw anomaly score\n",
        "scores_pred = clf.decision_function(df2)\n",
        "scores_pred"
      ],
      "execution_count": 0,
      "outputs": [
        {
          "output_type": "execute_result",
          "data": {
            "text/plain": [
              "array([  -0.9098,   -0.3186,   -4.8469,  -52.1256,   -5.1498,  -17.2335,\n",
              "        -43.6325,   -7.6118,   -0.9778,  -17.7168,  -30.231 ,  -16.5115,\n",
              "        -31.4183,   -1.5021,   -3.114 , -104.8813,  -50.2802,   -0.3148,\n",
              "        -26.1648,   -1.2713,   -3.1619, -214.4833,  -30.8937,   -2.4357,\n",
              "         -0.603 ,   -0.3288,  -50.4155,  -28.5699,   -0.483 ,   -4.6105,\n",
              "         -2.3785,   -1.2416,   -4.3617,   -5.4515,   -0.4588,   -7.539 ,\n",
              "       -118.4625,   -1.4559,  -29.5283,   -3.5954,  -11.5798,  -49.9209,\n",
              "         -1.5596, -161.1979,   -3.7797,  -41.163 ,  -27.6811, -162.5298,\n",
              "         -0.1075,  -33.767 , -103.0468,   -7.6977,   -1.7652,  -30.6362,\n",
              "         -9.7003,   -1.9508, -100.4041,  -54.1794,   -0.089 ,  -24.1136,\n",
              "         -2.9544,   -6.2015,   -0.0539,   -2.7326,  -76.1742,   -9.9486,\n",
              "        -31.2786,  -24.7129, -197.5593,   -4.4705,   -4.0341,   -2.2325,\n",
              "         -1.3068,  -75.3153, -310.0515,  -66.2583,  -14.1842,   -7.7763,\n",
              "        -43.8042,  -10.3713, -259.7425,   -7.4713,   -6.3665,   -0.5583,\n",
              "         -1.3321,   -0.1185,   -1.4669,   -4.1862,  -46.6832,   -1.8758,\n",
              "         -0.3129,  -17.1588,  -13.6983,  -12.0689,   -2.0786,   -4.3611,\n",
              "         -1.2626,   -1.8953,   -2.5079,   -0.2457,   -0.9287,   -0.1601,\n",
              "         -2.0376,   -0.8909, -101.2318,   -0.4171,   -1.1063, -311.716 ,\n",
              "        -27.8941,  -33.131 ,   -0.8616,   -0.2843,   -3.0712,   -3.1239,\n",
              "       -110.4943, -171.5894,   -6.4374,   -2.2157,  -79.3859, -149.1259,\n",
              "         -7.5056,  -98.2247,  -11.1808,  -41.4431,   -9.2845,   -7.6938,\n",
              "         -4.8069,   -5.5191,   -4.2033,   -5.8264,   -3.8584,   -2.313 ,\n",
              "       -778.342 ,  -98.9788, -366.7432,  -19.9476,   -0.7674,   -1.0458,\n",
              "         -6.8036,   -7.0328, -124.5134,   -0.5692, -253.1736,   -0.8163,\n",
              "         -0.0133,   -2.2554,   -5.3803,   -1.5479, -339.2211,  -28.8834,\n",
              "         -0.0823,   -3.9071,   -4.6954,   -1.1666,  -27.4025,   -6.8847,\n",
              "       -441.7033,  -73.7634,   -1.7063,   -1.8306,   -1.1671,   -3.3703,\n",
              "        -70.2384,   -0.1985,   -0.1985,   -5.6449,  -15.9464,   -0.5685,\n",
              "        -31.8328,   -0.296 ,   -0.3228,   -1.4011,  -26.2497,   -0.4067,\n",
              "        -34.9331,  -15.7026,   -7.8499,  -43.1362,  -47.6077,   -2.2274,\n",
              "         -2.4187,   -5.0121,  -25.4962,   -1.0481,   -4.7269,   -6.0795,\n",
              "         -9.6551,   -6.1169,   -3.391 ,   -4.4418,   -9.3477,  -26.507 ,\n",
              "        -31.2612, -135.5518,   -5.9996,   -1.5242,   -0.6183,   -1.2831,\n",
              "         -6.7112,   -0.6276,  -10.3132,   -6.3542,   -4.294 ,   -1.5879,\n",
              "         -0.0223,  -26.1221,   -7.5884,  -89.9643,   -1.9703,  -20.0356,\n",
              "         -9.4332,  -20.218 ,  -39.6463,   -1.2247,   -7.9878,   -0.4818,\n",
              "         -0.5299,   -1.1361,  -12.6619,   -1.8234,   -0.4133,   -0.1084,\n",
              "         -1.775 ,   -0.2974,  -35.3836,   -0.192 ,   -0.1311,  -13.1748,\n",
              "         -4.375 ,   -2.159 ,  -56.8073,   -8.3148,   -8.8435,   -0.6919,\n",
              "         -2.1987,   -3.9181,   -1.0405,   -8.8583,   -0.5371,   -2.2568,\n",
              "         -0.6245,   -2.1216,   -4.221 ,   -3.4151,   -3.494 ,   -5.5359,\n",
              "         -1.8554,   -0.2046,   -0.1342,   -0.3565,   -0.6243,   -0.4113,\n",
              "         -3.089 ,   -3.8842,   -0.1956,   -6.8883,  -33.5418,   -9.1222,\n",
              "         -6.8462,   -0.1312,   -0.1218,   -5.2948,  -18.0066,   -0.5446,\n",
              "         -2.1427,   -3.4953,   -0.0742,   -0.4759,   -2.1523,   -0.7544,\n",
              "         -7.2025,   -1.0681,   -0.6025,   -3.1363,   -6.9695,   -9.8174,\n",
              "        -28.1556,   -6.5795,  -13.6996,   -5.9234,   -0.3655,   -0.3945,\n",
              "         -0.4875,   -2.1305,  -14.1283,   -3.5722,   -5.7623,  -10.4435,\n",
              "        -12.1333,   -0.0951,  -26.6298,   -0.0137,   -0.5369,  -10.1498,\n",
              "         -0.0182,   -0.3501,  -12.9119,   -0.7266,   -7.4188,   -0.9011,\n",
              "         -0.1598,   -1.6406,   -2.0804])"
            ]
          },
          "metadata": {
            "tags": []
          },
          "execution_count": 135
        }
      ]
    },
    {
      "cell_type": "code",
      "metadata": {
        "id": "ZDrPFtzl74HD",
        "colab_type": "code",
        "colab": {}
      },
      "source": [
        "# prediction of a datapoint category outlier or inlier\n",
        "y_pred = clf.predict(df2)\n",
        "n_inliers = len(y_pred) - np.count_nonzero(y_pred)\n",
        "n_outliers = np.count_nonzero(y_pred == 1)"
      ],
      "execution_count": 0,
      "outputs": []
    },
    {
      "cell_type": "code",
      "metadata": {
        "id": "4CKUb_nq734Z",
        "colab_type": "code",
        "outputId": "bf35cd0d-5714-4347-9626-8ed06356cc2d",
        "colab": {
          "base_uri": "https://localhost:8080/",
          "height": 34
        }
      },
      "source": [
        "n_inliers, n_outliers"
      ],
      "execution_count": 0,
      "outputs": [
        {
          "output_type": "execute_result",
          "data": {
            "text/plain": [
              "(263, 40)"
            ]
          },
          "metadata": {
            "tags": []
          },
          "execution_count": 137
        }
      ]
    },
    {
      "cell_type": "code",
      "metadata": {
        "id": "1mFHJutG73s_",
        "colab_type": "code",
        "outputId": "87d9fd5e-a600-4642-bb46-01eba6dfa1f1",
        "colab": {
          "base_uri": "https://localhost:8080/",
          "height": 359
        }
      },
      "source": [
        "df2[y_pred == 1][:10] # outliers"
      ],
      "execution_count": 0,
      "outputs": [
        {
          "output_type": "execute_result",
          "data": {
            "text/html": [
              "<div>\n",
              "<style scoped>\n",
              "    .dataframe tbody tr th:only-of-type {\n",
              "        vertical-align: middle;\n",
              "    }\n",
              "\n",
              "    .dataframe tbody tr th {\n",
              "        vertical-align: top;\n",
              "    }\n",
              "\n",
              "    .dataframe thead th {\n",
              "        text-align: right;\n",
              "    }\n",
              "</style>\n",
              "<table border=\"1\" class=\"dataframe\">\n",
              "  <thead>\n",
              "    <tr style=\"text-align: right;\">\n",
              "      <th></th>\n",
              "      <th>age</th>\n",
              "      <th>cp</th>\n",
              "      <th>trestbps</th>\n",
              "      <th>chol</th>\n",
              "      <th>restecg</th>\n",
              "      <th>thalach</th>\n",
              "      <th>oldpeak</th>\n",
              "      <th>slope</th>\n",
              "      <th>ca</th>\n",
              "      <th>thal</th>\n",
              "    </tr>\n",
              "  </thead>\n",
              "  <tbody>\n",
              "    <tr>\n",
              "      <th>1</th>\n",
              "      <td>0.166667</td>\n",
              "      <td>0.666667</td>\n",
              "      <td>0.339623</td>\n",
              "      <td>0.283105</td>\n",
              "      <td>0.5</td>\n",
              "      <td>0.885496</td>\n",
              "      <td>0.564516</td>\n",
              "      <td>0.0</td>\n",
              "      <td>0.00</td>\n",
              "      <td>0.666667</td>\n",
              "    </tr>\n",
              "    <tr>\n",
              "      <th>17</th>\n",
              "      <td>0.770833</td>\n",
              "      <td>1.000000</td>\n",
              "      <td>0.528302</td>\n",
              "      <td>0.228311</td>\n",
              "      <td>0.5</td>\n",
              "      <td>0.328244</td>\n",
              "      <td>0.419355</td>\n",
              "      <td>0.0</td>\n",
              "      <td>0.00</td>\n",
              "      <td>0.666667</td>\n",
              "    </tr>\n",
              "    <tr>\n",
              "      <th>25</th>\n",
              "      <td>0.875000</td>\n",
              "      <td>0.333333</td>\n",
              "      <td>0.622642</td>\n",
              "      <td>0.401826</td>\n",
              "      <td>0.5</td>\n",
              "      <td>0.694656</td>\n",
              "      <td>0.064516</td>\n",
              "      <td>1.0</td>\n",
              "      <td>0.50</td>\n",
              "      <td>0.666667</td>\n",
              "    </tr>\n",
              "    <tr>\n",
              "      <th>48</th>\n",
              "      <td>0.500000</td>\n",
              "      <td>0.666667</td>\n",
              "      <td>0.320755</td>\n",
              "      <td>0.205479</td>\n",
              "      <td>0.0</td>\n",
              "      <td>0.335878</td>\n",
              "      <td>0.000000</td>\n",
              "      <td>1.0</td>\n",
              "      <td>0.00</td>\n",
              "      <td>0.000000</td>\n",
              "    </tr>\n",
              "    <tr>\n",
              "      <th>58</th>\n",
              "      <td>0.104167</td>\n",
              "      <td>1.000000</td>\n",
              "      <td>0.226415</td>\n",
              "      <td>0.127854</td>\n",
              "      <td>0.0</td>\n",
              "      <td>0.786260</td>\n",
              "      <td>0.000000</td>\n",
              "      <td>1.0</td>\n",
              "      <td>0.00</td>\n",
              "      <td>0.666667</td>\n",
              "    </tr>\n",
              "    <tr>\n",
              "      <th>62</th>\n",
              "      <td>0.479167</td>\n",
              "      <td>1.000000</td>\n",
              "      <td>0.226415</td>\n",
              "      <td>0.136986</td>\n",
              "      <td>0.0</td>\n",
              "      <td>0.908397</td>\n",
              "      <td>0.000000</td>\n",
              "      <td>0.5</td>\n",
              "      <td>0.00</td>\n",
              "      <td>0.333333</td>\n",
              "    </tr>\n",
              "    <tr>\n",
              "      <th>85</th>\n",
              "      <td>0.791667</td>\n",
              "      <td>0.666667</td>\n",
              "      <td>0.198113</td>\n",
              "      <td>1.000000</td>\n",
              "      <td>0.0</td>\n",
              "      <td>0.679389</td>\n",
              "      <td>0.258065</td>\n",
              "      <td>0.5</td>\n",
              "      <td>0.00</td>\n",
              "      <td>1.000000</td>\n",
              "    </tr>\n",
              "    <tr>\n",
              "      <th>90</th>\n",
              "      <td>0.395833</td>\n",
              "      <td>0.666667</td>\n",
              "      <td>0.283019</td>\n",
              "      <td>0.294521</td>\n",
              "      <td>0.5</td>\n",
              "      <td>0.793893</td>\n",
              "      <td>0.000000</td>\n",
              "      <td>1.0</td>\n",
              "      <td>0.50</td>\n",
              "      <td>0.666667</td>\n",
              "    </tr>\n",
              "    <tr>\n",
              "      <th>99</th>\n",
              "      <td>0.500000</td>\n",
              "      <td>0.666667</td>\n",
              "      <td>0.339623</td>\n",
              "      <td>0.273973</td>\n",
              "      <td>0.0</td>\n",
              "      <td>0.778626</td>\n",
              "      <td>0.000000</td>\n",
              "      <td>1.0</td>\n",
              "      <td>0.75</td>\n",
              "      <td>0.666667</td>\n",
              "    </tr>\n",
              "    <tr>\n",
              "      <th>101</th>\n",
              "      <td>0.625000</td>\n",
              "      <td>1.000000</td>\n",
              "      <td>0.792453</td>\n",
              "      <td>0.328767</td>\n",
              "      <td>0.0</td>\n",
              "      <td>0.564885</td>\n",
              "      <td>0.677419</td>\n",
              "      <td>0.0</td>\n",
              "      <td>0.00</td>\n",
              "      <td>1.000000</td>\n",
              "    </tr>\n",
              "  </tbody>\n",
              "</table>\n",
              "</div>"
            ],
            "text/plain": [
              "          age        cp  trestbps      chol  restecg   thalach   oldpeak  \\\n",
              "1    0.166667  0.666667  0.339623  0.283105      0.5  0.885496  0.564516   \n",
              "17   0.770833  1.000000  0.528302  0.228311      0.5  0.328244  0.419355   \n",
              "25   0.875000  0.333333  0.622642  0.401826      0.5  0.694656  0.064516   \n",
              "48   0.500000  0.666667  0.320755  0.205479      0.0  0.335878  0.000000   \n",
              "58   0.104167  1.000000  0.226415  0.127854      0.0  0.786260  0.000000   \n",
              "62   0.479167  1.000000  0.226415  0.136986      0.0  0.908397  0.000000   \n",
              "85   0.791667  0.666667  0.198113  1.000000      0.0  0.679389  0.258065   \n",
              "90   0.395833  0.666667  0.283019  0.294521      0.5  0.793893  0.000000   \n",
              "99   0.500000  0.666667  0.339623  0.273973      0.0  0.778626  0.000000   \n",
              "101  0.625000  1.000000  0.792453  0.328767      0.0  0.564885  0.677419   \n",
              "\n",
              "     slope    ca      thal  \n",
              "1      0.0  0.00  0.666667  \n",
              "17     0.0  0.00  0.666667  \n",
              "25     1.0  0.50  0.666667  \n",
              "48     1.0  0.00  0.000000  \n",
              "58     1.0  0.00  0.666667  \n",
              "62     0.5  0.00  0.333333  \n",
              "85     0.5  0.00  1.000000  \n",
              "90     1.0  0.50  0.666667  \n",
              "99     1.0  0.75  0.666667  \n",
              "101    0.0  0.00  1.000000  "
            ]
          },
          "metadata": {
            "tags": []
          },
          "execution_count": 138
        }
      ]
    },
    {
      "cell_type": "code",
      "metadata": {
        "id": "NpVSxw4F73cz",
        "colab_type": "code",
        "outputId": "e21774ee-98fe-4751-dabd-5d113acba6e8",
        "colab": {
          "base_uri": "https://localhost:8080/",
          "height": 359
        }
      },
      "source": [
        "df2[y_pred == 0][:10] # inliers"
      ],
      "execution_count": 0,
      "outputs": [
        {
          "output_type": "execute_result",
          "data": {
            "text/html": [
              "<div>\n",
              "<style scoped>\n",
              "    .dataframe tbody tr th:only-of-type {\n",
              "        vertical-align: middle;\n",
              "    }\n",
              "\n",
              "    .dataframe tbody tr th {\n",
              "        vertical-align: top;\n",
              "    }\n",
              "\n",
              "    .dataframe thead th {\n",
              "        text-align: right;\n",
              "    }\n",
              "</style>\n",
              "<table border=\"1\" class=\"dataframe\">\n",
              "  <thead>\n",
              "    <tr style=\"text-align: right;\">\n",
              "      <th></th>\n",
              "      <th>age</th>\n",
              "      <th>cp</th>\n",
              "      <th>trestbps</th>\n",
              "      <th>chol</th>\n",
              "      <th>restecg</th>\n",
              "      <th>thalach</th>\n",
              "      <th>oldpeak</th>\n",
              "      <th>slope</th>\n",
              "      <th>ca</th>\n",
              "      <th>thal</th>\n",
              "    </tr>\n",
              "  </thead>\n",
              "  <tbody>\n",
              "    <tr>\n",
              "      <th>0</th>\n",
              "      <td>0.708333</td>\n",
              "      <td>1.000000</td>\n",
              "      <td>0.481132</td>\n",
              "      <td>0.244292</td>\n",
              "      <td>0.0</td>\n",
              "      <td>0.603053</td>\n",
              "      <td>0.370968</td>\n",
              "      <td>0.0</td>\n",
              "      <td>0.0</td>\n",
              "      <td>0.333333</td>\n",
              "    </tr>\n",
              "    <tr>\n",
              "      <th>2</th>\n",
              "      <td>0.250000</td>\n",
              "      <td>0.333333</td>\n",
              "      <td>0.339623</td>\n",
              "      <td>0.178082</td>\n",
              "      <td>0.0</td>\n",
              "      <td>0.770992</td>\n",
              "      <td>0.225806</td>\n",
              "      <td>1.0</td>\n",
              "      <td>0.0</td>\n",
              "      <td>0.666667</td>\n",
              "    </tr>\n",
              "    <tr>\n",
              "      <th>3</th>\n",
              "      <td>0.562500</td>\n",
              "      <td>0.333333</td>\n",
              "      <td>0.245283</td>\n",
              "      <td>0.251142</td>\n",
              "      <td>0.5</td>\n",
              "      <td>0.816794</td>\n",
              "      <td>0.129032</td>\n",
              "      <td>1.0</td>\n",
              "      <td>0.0</td>\n",
              "      <td>0.666667</td>\n",
              "    </tr>\n",
              "    <tr>\n",
              "      <th>4</th>\n",
              "      <td>0.583333</td>\n",
              "      <td>0.000000</td>\n",
              "      <td>0.245283</td>\n",
              "      <td>0.520548</td>\n",
              "      <td>0.5</td>\n",
              "      <td>0.702290</td>\n",
              "      <td>0.096774</td>\n",
              "      <td>1.0</td>\n",
              "      <td>0.0</td>\n",
              "      <td>0.666667</td>\n",
              "    </tr>\n",
              "    <tr>\n",
              "      <th>5</th>\n",
              "      <td>0.583333</td>\n",
              "      <td>0.000000</td>\n",
              "      <td>0.433962</td>\n",
              "      <td>0.150685</td>\n",
              "      <td>0.5</td>\n",
              "      <td>0.587786</td>\n",
              "      <td>0.064516</td>\n",
              "      <td>0.5</td>\n",
              "      <td>0.0</td>\n",
              "      <td>0.333333</td>\n",
              "    </tr>\n",
              "    <tr>\n",
              "      <th>6</th>\n",
              "      <td>0.562500</td>\n",
              "      <td>0.333333</td>\n",
              "      <td>0.433962</td>\n",
              "      <td>0.383562</td>\n",
              "      <td>0.0</td>\n",
              "      <td>0.625954</td>\n",
              "      <td>0.209677</td>\n",
              "      <td>0.5</td>\n",
              "      <td>0.0</td>\n",
              "      <td>0.666667</td>\n",
              "    </tr>\n",
              "    <tr>\n",
              "      <th>7</th>\n",
              "      <td>0.312500</td>\n",
              "      <td>0.333333</td>\n",
              "      <td>0.245283</td>\n",
              "      <td>0.312785</td>\n",
              "      <td>0.5</td>\n",
              "      <td>0.778626</td>\n",
              "      <td>0.000000</td>\n",
              "      <td>1.0</td>\n",
              "      <td>0.0</td>\n",
              "      <td>1.000000</td>\n",
              "    </tr>\n",
              "    <tr>\n",
              "      <th>8</th>\n",
              "      <td>0.479167</td>\n",
              "      <td>0.666667</td>\n",
              "      <td>0.735849</td>\n",
              "      <td>0.166667</td>\n",
              "      <td>0.5</td>\n",
              "      <td>0.694656</td>\n",
              "      <td>0.080645</td>\n",
              "      <td>1.0</td>\n",
              "      <td>0.0</td>\n",
              "      <td>1.000000</td>\n",
              "    </tr>\n",
              "    <tr>\n",
              "      <th>9</th>\n",
              "      <td>0.583333</td>\n",
              "      <td>0.666667</td>\n",
              "      <td>0.528302</td>\n",
              "      <td>0.095890</td>\n",
              "      <td>0.5</td>\n",
              "      <td>0.786260</td>\n",
              "      <td>0.258065</td>\n",
              "      <td>1.0</td>\n",
              "      <td>0.0</td>\n",
              "      <td>0.666667</td>\n",
              "    </tr>\n",
              "    <tr>\n",
              "      <th>10</th>\n",
              "      <td>0.520833</td>\n",
              "      <td>0.000000</td>\n",
              "      <td>0.433962</td>\n",
              "      <td>0.257991</td>\n",
              "      <td>0.5</td>\n",
              "      <td>0.679389</td>\n",
              "      <td>0.193548</td>\n",
              "      <td>1.0</td>\n",
              "      <td>0.0</td>\n",
              "      <td>0.666667</td>\n",
              "    </tr>\n",
              "  </tbody>\n",
              "</table>\n",
              "</div>"
            ],
            "text/plain": [
              "         age        cp  trestbps      chol  restecg   thalach   oldpeak  \\\n",
              "0   0.708333  1.000000  0.481132  0.244292      0.0  0.603053  0.370968   \n",
              "2   0.250000  0.333333  0.339623  0.178082      0.0  0.770992  0.225806   \n",
              "3   0.562500  0.333333  0.245283  0.251142      0.5  0.816794  0.129032   \n",
              "4   0.583333  0.000000  0.245283  0.520548      0.5  0.702290  0.096774   \n",
              "5   0.583333  0.000000  0.433962  0.150685      0.5  0.587786  0.064516   \n",
              "6   0.562500  0.333333  0.433962  0.383562      0.0  0.625954  0.209677   \n",
              "7   0.312500  0.333333  0.245283  0.312785      0.5  0.778626  0.000000   \n",
              "8   0.479167  0.666667  0.735849  0.166667      0.5  0.694656  0.080645   \n",
              "9   0.583333  0.666667  0.528302  0.095890      0.5  0.786260  0.258065   \n",
              "10  0.520833  0.000000  0.433962  0.257991      0.5  0.679389  0.193548   \n",
              "\n",
              "    slope   ca      thal  \n",
              "0     0.0  0.0  0.333333  \n",
              "2     1.0  0.0  0.666667  \n",
              "3     1.0  0.0  0.666667  \n",
              "4     1.0  0.0  0.666667  \n",
              "5     0.5  0.0  0.333333  \n",
              "6     0.5  0.0  0.666667  \n",
              "7     1.0  0.0  1.000000  \n",
              "8     1.0  0.0  1.000000  \n",
              "9     1.0  0.0  0.666667  \n",
              "10    1.0  0.0  0.666667  "
            ]
          },
          "metadata": {
            "tags": []
          },
          "execution_count": 139
        }
      ]
    },
    {
      "cell_type": "markdown",
      "metadata": {
        "id": "Ra7rlw1c8ht-",
        "colab_type": "text"
      },
      "source": [
        "## outlier detection with CBLOF method\n"
      ]
    },
    {
      "cell_type": "code",
      "metadata": {
        "id": "N8YNYWIf9E9Z",
        "colab_type": "code",
        "outputId": "93746a35-a342-477c-8c7e-6a41cae0e250",
        "colab": {
          "base_uri": "https://localhost:8080/",
          "height": 68
        }
      },
      "source": [
        "# train CBLOF detector\n",
        "clf_name = 'CBLOF' \n",
        "clf = CBLOF()\n",
        "clf.fit(df2)"
      ],
      "execution_count": 0,
      "outputs": [
        {
          "output_type": "execute_result",
          "data": {
            "text/plain": [
              "CBLOF(alpha=0.9, beta=5, check_estimator=False, clustering_estimator=None,\n",
              "   contamination=0.1, n_clusters=8, n_jobs=1, random_state=None,\n",
              "   use_weights=False)"
            ]
          },
          "metadata": {
            "tags": []
          },
          "execution_count": 140
        }
      ]
    },
    {
      "cell_type": "code",
      "metadata": {
        "id": "_q5DxSIi9EyT",
        "colab_type": "code",
        "outputId": "478d462a-41c5-4128-d45a-f72b75534670",
        "colab": {
          "base_uri": "https://localhost:8080/",
          "height": 663
        }
      },
      "source": [
        "# predict raw anomaly score\n",
        "scores_pred = clf.decision_function(df2)\n",
        "scores_pred"
      ],
      "execution_count": 0,
      "outputs": [
        {
          "output_type": "execute_result",
          "data": {
            "text/plain": [
              "array([0.738 , 0.7751, 0.8485, 0.8161, 1.0521, 0.944 , 0.5347, 0.8933,\n",
              "       0.8045, 0.7141, 1.0047, 0.7127, 0.8142, 0.4788, 0.7199, 0.3607,\n",
              "       0.7562, 0.7132, 1.0558, 0.8608, 0.8615, 0.745 , 1.0837, 0.3906,\n",
              "       0.822 , 1.0006, 0.682 , 0.7567, 0.8167, 0.5233, 0.9307, 1.0731,\n",
              "       0.8856, 0.5658, 0.7477, 0.575 , 0.7214, 0.7096, 0.7242, 0.7817,\n",
              "       0.7026, 0.6117, 0.9267, 0.8369, 0.8268, 0.8494, 0.7626, 0.7145,\n",
              "       1.0693, 1.0267, 0.6752, 0.8783, 0.7876, 0.555 , 0.7224, 0.8088,\n",
              "       1.072 , 1.0898, 0.8881, 1.0483, 0.8267, 0.8828, 0.7021, 0.7903,\n",
              "       0.7034, 1.1197, 0.4584, 0.6019, 0.8645, 1.0428, 0.4242, 0.8334,\n",
              "       1.0521, 1.0619, 0.476 , 0.5209, 0.3783, 0.8204, 0.8524, 0.4729,\n",
              "       0.808 , 0.8614, 0.7972, 0.5311, 0.9495, 0.8789, 0.7723, 0.9155,\n",
              "       0.3886, 0.9056, 0.8492, 1.0558, 1.167 , 0.8315, 0.6744, 1.0948,\n",
              "       0.9007, 1.2669, 0.7521, 0.979 , 0.8929, 0.8642, 0.9554, 0.7169,\n",
              "       0.7147, 0.5086, 0.6158, 0.8666, 0.7995, 1.0535, 1.1471, 0.8091,\n",
              "       0.7702, 1.1037, 0.811 , 0.8158, 0.4598, 0.4696, 0.8904, 0.8694,\n",
              "       0.9805, 1.0533, 0.7952, 0.7398, 0.8856, 0.9666, 1.0613, 0.7903,\n",
              "       0.4099, 0.9411, 0.7657, 0.5929, 0.8776, 0.8906, 0.8831, 1.0399,\n",
              "       0.8407, 0.8263, 0.9711, 0.9701, 0.6935, 0.914 , 0.5221, 1.1571,\n",
              "       0.9356, 0.8894, 0.4833, 0.7327, 0.7548, 0.7608, 1.1484, 0.9474,\n",
              "       0.5937, 0.4888, 0.5205, 0.8507, 0.7446, 0.9422, 1.1007, 0.8374,\n",
              "       0.7225, 0.8182, 0.921 , 1.2327, 1.2327, 1.1683, 1.0126, 1.0795,\n",
              "       0.8717, 0.9817, 0.5677, 0.7575, 0.5489, 0.8705, 0.9743, 0.99  ,\n",
              "       1.1209, 0.7506, 0.9496, 1.0065, 0.9108, 1.1471, 1.0573, 0.4943,\n",
              "       0.9036, 1.0876, 1.0409, 0.9327, 0.4558, 1.1197, 0.8661, 1.1008,\n",
              "       0.926 , 0.9858, 0.432 , 1.0734, 0.538 , 0.9986, 1.0467, 1.207 ,\n",
              "       1.1058, 0.8981, 1.0857, 0.6365, 1.4297, 1.0648, 0.8899, 0.9792,\n",
              "       0.8137, 1.0751, 0.4373, 0.9497, 0.9285, 0.8725, 0.8371, 0.9537,\n",
              "       0.6054, 1.2601, 0.9276, 1.1377, 1.2378, 1.2016, 0.4933, 1.2889,\n",
              "       0.9364, 1.0418, 0.7203, 0.9739, 0.6009, 0.481 , 0.7528, 1.1473,\n",
              "       0.9069, 1.051 , 1.1744, 1.049 , 1.1467, 0.9651, 1.3164, 1.1343,\n",
              "       0.6917, 0.9375, 1.0493, 1.009 , 1.0137, 0.881 , 1.02  , 1.0627,\n",
              "       1.0703, 0.8276, 1.2059, 1.2965, 1.1356, 1.031 , 0.8003, 1.1378,\n",
              "       0.9931, 0.8859, 0.8436, 0.7333, 1.0635, 1.0612, 1.0539, 0.9752,\n",
              "       0.9533, 1.0861, 1.2591, 1.0047, 1.0123, 1.0134, 1.0517, 0.6131,\n",
              "       1.0622, 1.1018, 0.9206, 1.1203, 0.9471, 0.8337, 0.9291, 0.9496,\n",
              "       1.0022, 1.1259, 0.5917, 1.1316, 1.0512, 1.0122, 0.8252, 0.8508,\n",
              "       0.951 , 1.1356, 1.0792, 1.5116, 1.0949, 0.4866, 1.0814, 1.1993,\n",
              "       0.8803, 1.167 , 0.8963, 0.5574, 1.0439, 0.9396, 0.6109])"
            ]
          },
          "metadata": {
            "tags": []
          },
          "execution_count": 141
        }
      ]
    },
    {
      "cell_type": "code",
      "metadata": {
        "id": "6S5S8eB-9Eop",
        "colab_type": "code",
        "colab": {}
      },
      "source": [
        "# prediction of a datapoint category outlier or inlier\n",
        "y_pred = clf.predict(df2)\n",
        "\n",
        "n_inliers = len(y_pred) - np.count_nonzero(y_pred)\n",
        "n_outliers = np.count_nonzero(y_pred == 1)"
      ],
      "execution_count": 0,
      "outputs": []
    },
    {
      "cell_type": "code",
      "metadata": {
        "id": "mairtkZ_9Eel",
        "colab_type": "code",
        "outputId": "aae5deba-0b6e-4f9a-f1ef-f6258644e43f",
        "colab": {
          "base_uri": "https://localhost:8080/",
          "height": 34
        }
      },
      "source": [
        "n_inliers, n_outliers"
      ],
      "execution_count": 0,
      "outputs": [
        {
          "output_type": "execute_result",
          "data": {
            "text/plain": [
              "(272, 31)"
            ]
          },
          "metadata": {
            "tags": []
          },
          "execution_count": 143
        }
      ]
    },
    {
      "cell_type": "code",
      "metadata": {
        "id": "QTUVhQRL9EVO",
        "colab_type": "code",
        "outputId": "93819cfa-b8ef-45b8-eb1b-d11e2c6e7f32",
        "colab": {
          "base_uri": "https://localhost:8080/",
          "height": 359
        }
      },
      "source": [
        "df2[y_pred == 1][:10] # outliers"
      ],
      "execution_count": 0,
      "outputs": [
        {
          "output_type": "execute_result",
          "data": {
            "text/html": [
              "<div>\n",
              "<style scoped>\n",
              "    .dataframe tbody tr th:only-of-type {\n",
              "        vertical-align: middle;\n",
              "    }\n",
              "\n",
              "    .dataframe tbody tr th {\n",
              "        vertical-align: top;\n",
              "    }\n",
              "\n",
              "    .dataframe thead th {\n",
              "        text-align: right;\n",
              "    }\n",
              "</style>\n",
              "<table border=\"1\" class=\"dataframe\">\n",
              "  <thead>\n",
              "    <tr style=\"text-align: right;\">\n",
              "      <th></th>\n",
              "      <th>age</th>\n",
              "      <th>cp</th>\n",
              "      <th>trestbps</th>\n",
              "      <th>chol</th>\n",
              "      <th>restecg</th>\n",
              "      <th>thalach</th>\n",
              "      <th>oldpeak</th>\n",
              "      <th>slope</th>\n",
              "      <th>ca</th>\n",
              "      <th>thal</th>\n",
              "    </tr>\n",
              "  </thead>\n",
              "  <tbody>\n",
              "    <tr>\n",
              "      <th>92</th>\n",
              "      <td>0.479167</td>\n",
              "      <td>0.666667</td>\n",
              "      <td>0.415094</td>\n",
              "      <td>0.221461</td>\n",
              "      <td>0.5</td>\n",
              "      <td>0.748092</td>\n",
              "      <td>0.000000</td>\n",
              "      <td>1.0</td>\n",
              "      <td>1.00</td>\n",
              "      <td>0.666667</td>\n",
              "    </tr>\n",
              "    <tr>\n",
              "      <th>97</th>\n",
              "      <td>0.479167</td>\n",
              "      <td>0.000000</td>\n",
              "      <td>0.132075</td>\n",
              "      <td>0.244292</td>\n",
              "      <td>0.5</td>\n",
              "      <td>0.580153</td>\n",
              "      <td>0.016129</td>\n",
              "      <td>1.0</td>\n",
              "      <td>0.75</td>\n",
              "      <td>1.000000</td>\n",
              "    </tr>\n",
              "    <tr>\n",
              "      <th>110</th>\n",
              "      <td>0.729167</td>\n",
              "      <td>0.000000</td>\n",
              "      <td>0.811321</td>\n",
              "      <td>0.454338</td>\n",
              "      <td>0.5</td>\n",
              "      <td>0.633588</td>\n",
              "      <td>0.000000</td>\n",
              "      <td>1.0</td>\n",
              "      <td>0.00</td>\n",
              "      <td>0.666667</td>\n",
              "    </tr>\n",
              "    <tr>\n",
              "      <th>143</th>\n",
              "      <td>0.791667</td>\n",
              "      <td>0.000000</td>\n",
              "      <td>0.113208</td>\n",
              "      <td>0.221461</td>\n",
              "      <td>0.5</td>\n",
              "      <td>0.541985</td>\n",
              "      <td>0.048387</td>\n",
              "      <td>1.0</td>\n",
              "      <td>0.50</td>\n",
              "      <td>0.666667</td>\n",
              "    </tr>\n",
              "    <tr>\n",
              "      <th>150</th>\n",
              "      <td>0.770833</td>\n",
              "      <td>0.000000</td>\n",
              "      <td>0.622642</td>\n",
              "      <td>0.232877</td>\n",
              "      <td>0.0</td>\n",
              "      <td>0.511450</td>\n",
              "      <td>0.370968</td>\n",
              "      <td>1.0</td>\n",
              "      <td>0.00</td>\n",
              "      <td>0.333333</td>\n",
              "    </tr>\n",
              "    <tr>\n",
              "      <th>163</th>\n",
              "      <td>0.187500</td>\n",
              "      <td>0.666667</td>\n",
              "      <td>0.415094</td>\n",
              "      <td>0.111872</td>\n",
              "      <td>0.5</td>\n",
              "      <td>0.778626</td>\n",
              "      <td>0.000000</td>\n",
              "      <td>1.0</td>\n",
              "      <td>1.00</td>\n",
              "      <td>0.666667</td>\n",
              "    </tr>\n",
              "    <tr>\n",
              "      <th>164</th>\n",
              "      <td>0.187500</td>\n",
              "      <td>0.666667</td>\n",
              "      <td>0.415094</td>\n",
              "      <td>0.111872</td>\n",
              "      <td>0.5</td>\n",
              "      <td>0.778626</td>\n",
              "      <td>0.000000</td>\n",
              "      <td>1.0</td>\n",
              "      <td>1.00</td>\n",
              "      <td>0.666667</td>\n",
              "    </tr>\n",
              "    <tr>\n",
              "      <th>165</th>\n",
              "      <td>0.791667</td>\n",
              "      <td>0.000000</td>\n",
              "      <td>0.622642</td>\n",
              "      <td>0.365297</td>\n",
              "      <td>0.0</td>\n",
              "      <td>0.282443</td>\n",
              "      <td>0.241935</td>\n",
              "      <td>0.5</td>\n",
              "      <td>0.75</td>\n",
              "      <td>0.666667</td>\n",
              "    </tr>\n",
              "    <tr>\n",
              "      <th>181</th>\n",
              "      <td>0.750000</td>\n",
              "      <td>0.000000</td>\n",
              "      <td>0.528302</td>\n",
              "      <td>0.226027</td>\n",
              "      <td>0.0</td>\n",
              "      <td>0.328244</td>\n",
              "      <td>0.161290</td>\n",
              "      <td>0.5</td>\n",
              "      <td>0.75</td>\n",
              "      <td>1.000000</td>\n",
              "    </tr>\n",
              "    <tr>\n",
              "      <th>199</th>\n",
              "      <td>0.750000</td>\n",
              "      <td>0.000000</td>\n",
              "      <td>0.150943</td>\n",
              "      <td>0.278539</td>\n",
              "      <td>0.0</td>\n",
              "      <td>0.664122</td>\n",
              "      <td>0.096774</td>\n",
              "      <td>1.0</td>\n",
              "      <td>0.50</td>\n",
              "      <td>0.333333</td>\n",
              "    </tr>\n",
              "  </tbody>\n",
              "</table>\n",
              "</div>"
            ],
            "text/plain": [
              "          age        cp  trestbps      chol  restecg   thalach   oldpeak  \\\n",
              "92   0.479167  0.666667  0.415094  0.221461      0.5  0.748092  0.000000   \n",
              "97   0.479167  0.000000  0.132075  0.244292      0.5  0.580153  0.016129   \n",
              "110  0.729167  0.000000  0.811321  0.454338      0.5  0.633588  0.000000   \n",
              "143  0.791667  0.000000  0.113208  0.221461      0.5  0.541985  0.048387   \n",
              "150  0.770833  0.000000  0.622642  0.232877      0.0  0.511450  0.370968   \n",
              "163  0.187500  0.666667  0.415094  0.111872      0.5  0.778626  0.000000   \n",
              "164  0.187500  0.666667  0.415094  0.111872      0.5  0.778626  0.000000   \n",
              "165  0.791667  0.000000  0.622642  0.365297      0.0  0.282443  0.241935   \n",
              "181  0.750000  0.000000  0.528302  0.226027      0.0  0.328244  0.161290   \n",
              "199  0.750000  0.000000  0.150943  0.278539      0.0  0.664122  0.096774   \n",
              "\n",
              "     slope    ca      thal  \n",
              "92     1.0  1.00  0.666667  \n",
              "97     1.0  0.75  1.000000  \n",
              "110    1.0  0.00  0.666667  \n",
              "143    1.0  0.50  0.666667  \n",
              "150    1.0  0.00  0.333333  \n",
              "163    1.0  1.00  0.666667  \n",
              "164    1.0  1.00  0.666667  \n",
              "165    0.5  0.75  0.666667  \n",
              "181    0.5  0.75  1.000000  \n",
              "199    1.0  0.50  0.333333  "
            ]
          },
          "metadata": {
            "tags": []
          },
          "execution_count": 144
        }
      ]
    },
    {
      "cell_type": "code",
      "metadata": {
        "id": "UL6k88qT9ELQ",
        "colab_type": "code",
        "outputId": "1d849a36-e7b1-4c6b-b0ee-8eccca842ec0",
        "colab": {
          "base_uri": "https://localhost:8080/",
          "height": 359
        }
      },
      "source": [
        "df2[y_pred == 0][:10] # inliers"
      ],
      "execution_count": 0,
      "outputs": [
        {
          "output_type": "execute_result",
          "data": {
            "text/html": [
              "<div>\n",
              "<style scoped>\n",
              "    .dataframe tbody tr th:only-of-type {\n",
              "        vertical-align: middle;\n",
              "    }\n",
              "\n",
              "    .dataframe tbody tr th {\n",
              "        vertical-align: top;\n",
              "    }\n",
              "\n",
              "    .dataframe thead th {\n",
              "        text-align: right;\n",
              "    }\n",
              "</style>\n",
              "<table border=\"1\" class=\"dataframe\">\n",
              "  <thead>\n",
              "    <tr style=\"text-align: right;\">\n",
              "      <th></th>\n",
              "      <th>age</th>\n",
              "      <th>cp</th>\n",
              "      <th>trestbps</th>\n",
              "      <th>chol</th>\n",
              "      <th>restecg</th>\n",
              "      <th>thalach</th>\n",
              "      <th>oldpeak</th>\n",
              "      <th>slope</th>\n",
              "      <th>ca</th>\n",
              "      <th>thal</th>\n",
              "    </tr>\n",
              "  </thead>\n",
              "  <tbody>\n",
              "    <tr>\n",
              "      <th>0</th>\n",
              "      <td>0.708333</td>\n",
              "      <td>1.000000</td>\n",
              "      <td>0.481132</td>\n",
              "      <td>0.244292</td>\n",
              "      <td>0.0</td>\n",
              "      <td>0.603053</td>\n",
              "      <td>0.370968</td>\n",
              "      <td>0.0</td>\n",
              "      <td>0.0</td>\n",
              "      <td>0.333333</td>\n",
              "    </tr>\n",
              "    <tr>\n",
              "      <th>1</th>\n",
              "      <td>0.166667</td>\n",
              "      <td>0.666667</td>\n",
              "      <td>0.339623</td>\n",
              "      <td>0.283105</td>\n",
              "      <td>0.5</td>\n",
              "      <td>0.885496</td>\n",
              "      <td>0.564516</td>\n",
              "      <td>0.0</td>\n",
              "      <td>0.0</td>\n",
              "      <td>0.666667</td>\n",
              "    </tr>\n",
              "    <tr>\n",
              "      <th>2</th>\n",
              "      <td>0.250000</td>\n",
              "      <td>0.333333</td>\n",
              "      <td>0.339623</td>\n",
              "      <td>0.178082</td>\n",
              "      <td>0.0</td>\n",
              "      <td>0.770992</td>\n",
              "      <td>0.225806</td>\n",
              "      <td>1.0</td>\n",
              "      <td>0.0</td>\n",
              "      <td>0.666667</td>\n",
              "    </tr>\n",
              "    <tr>\n",
              "      <th>3</th>\n",
              "      <td>0.562500</td>\n",
              "      <td>0.333333</td>\n",
              "      <td>0.245283</td>\n",
              "      <td>0.251142</td>\n",
              "      <td>0.5</td>\n",
              "      <td>0.816794</td>\n",
              "      <td>0.129032</td>\n",
              "      <td>1.0</td>\n",
              "      <td>0.0</td>\n",
              "      <td>0.666667</td>\n",
              "    </tr>\n",
              "    <tr>\n",
              "      <th>4</th>\n",
              "      <td>0.583333</td>\n",
              "      <td>0.000000</td>\n",
              "      <td>0.245283</td>\n",
              "      <td>0.520548</td>\n",
              "      <td>0.5</td>\n",
              "      <td>0.702290</td>\n",
              "      <td>0.096774</td>\n",
              "      <td>1.0</td>\n",
              "      <td>0.0</td>\n",
              "      <td>0.666667</td>\n",
              "    </tr>\n",
              "    <tr>\n",
              "      <th>5</th>\n",
              "      <td>0.583333</td>\n",
              "      <td>0.000000</td>\n",
              "      <td>0.433962</td>\n",
              "      <td>0.150685</td>\n",
              "      <td>0.5</td>\n",
              "      <td>0.587786</td>\n",
              "      <td>0.064516</td>\n",
              "      <td>0.5</td>\n",
              "      <td>0.0</td>\n",
              "      <td>0.333333</td>\n",
              "    </tr>\n",
              "    <tr>\n",
              "      <th>6</th>\n",
              "      <td>0.562500</td>\n",
              "      <td>0.333333</td>\n",
              "      <td>0.433962</td>\n",
              "      <td>0.383562</td>\n",
              "      <td>0.0</td>\n",
              "      <td>0.625954</td>\n",
              "      <td>0.209677</td>\n",
              "      <td>0.5</td>\n",
              "      <td>0.0</td>\n",
              "      <td>0.666667</td>\n",
              "    </tr>\n",
              "    <tr>\n",
              "      <th>7</th>\n",
              "      <td>0.312500</td>\n",
              "      <td>0.333333</td>\n",
              "      <td>0.245283</td>\n",
              "      <td>0.312785</td>\n",
              "      <td>0.5</td>\n",
              "      <td>0.778626</td>\n",
              "      <td>0.000000</td>\n",
              "      <td>1.0</td>\n",
              "      <td>0.0</td>\n",
              "      <td>1.000000</td>\n",
              "    </tr>\n",
              "    <tr>\n",
              "      <th>8</th>\n",
              "      <td>0.479167</td>\n",
              "      <td>0.666667</td>\n",
              "      <td>0.735849</td>\n",
              "      <td>0.166667</td>\n",
              "      <td>0.5</td>\n",
              "      <td>0.694656</td>\n",
              "      <td>0.080645</td>\n",
              "      <td>1.0</td>\n",
              "      <td>0.0</td>\n",
              "      <td>1.000000</td>\n",
              "    </tr>\n",
              "    <tr>\n",
              "      <th>9</th>\n",
              "      <td>0.583333</td>\n",
              "      <td>0.666667</td>\n",
              "      <td>0.528302</td>\n",
              "      <td>0.095890</td>\n",
              "      <td>0.5</td>\n",
              "      <td>0.786260</td>\n",
              "      <td>0.258065</td>\n",
              "      <td>1.0</td>\n",
              "      <td>0.0</td>\n",
              "      <td>0.666667</td>\n",
              "    </tr>\n",
              "  </tbody>\n",
              "</table>\n",
              "</div>"
            ],
            "text/plain": [
              "        age        cp  trestbps      chol  restecg   thalach   oldpeak  slope  \\\n",
              "0  0.708333  1.000000  0.481132  0.244292      0.0  0.603053  0.370968    0.0   \n",
              "1  0.166667  0.666667  0.339623  0.283105      0.5  0.885496  0.564516    0.0   \n",
              "2  0.250000  0.333333  0.339623  0.178082      0.0  0.770992  0.225806    1.0   \n",
              "3  0.562500  0.333333  0.245283  0.251142      0.5  0.816794  0.129032    1.0   \n",
              "4  0.583333  0.000000  0.245283  0.520548      0.5  0.702290  0.096774    1.0   \n",
              "5  0.583333  0.000000  0.433962  0.150685      0.5  0.587786  0.064516    0.5   \n",
              "6  0.562500  0.333333  0.433962  0.383562      0.0  0.625954  0.209677    0.5   \n",
              "7  0.312500  0.333333  0.245283  0.312785      0.5  0.778626  0.000000    1.0   \n",
              "8  0.479167  0.666667  0.735849  0.166667      0.5  0.694656  0.080645    1.0   \n",
              "9  0.583333  0.666667  0.528302  0.095890      0.5  0.786260  0.258065    1.0   \n",
              "\n",
              "    ca      thal  \n",
              "0  0.0  0.333333  \n",
              "1  0.0  0.666667  \n",
              "2  0.0  0.666667  \n",
              "3  0.0  0.666667  \n",
              "4  0.0  0.666667  \n",
              "5  0.0  0.333333  \n",
              "6  0.0  0.666667  \n",
              "7  0.0  1.000000  \n",
              "8  0.0  1.000000  \n",
              "9  0.0  0.666667  "
            ]
          },
          "metadata": {
            "tags": []
          },
          "execution_count": 145
        }
      ]
    },
    {
      "cell_type": "markdown",
      "metadata": {
        "id": "Ybh-RsNo9j9M",
        "colab_type": "text"
      },
      "source": [
        "# visualization for two variable \"chol\" and \"trestbps\" variables"
      ]
    },
    {
      "cell_type": "code",
      "metadata": {
        "id": "lANpJ8P8pAk-",
        "colab_type": "code",
        "outputId": "ac02bf97-47e4-4717-a362-29fad36f5087",
        "colab": {
          "base_uri": "https://localhost:8080/",
          "height": 102
        }
      },
      "source": [
        "X1 = df['chol'].values.reshape(-1,1)\n",
        "X2 = df['trestbps'].values.reshape(-1,1)\n",
        "\n",
        "X = np.concatenate((X1,X2),axis=1)\n",
        "X[:5]"
      ],
      "execution_count": 0,
      "outputs": [
        {
          "output_type": "execute_result",
          "data": {
            "text/plain": [
              "array([[233, 145],\n",
              "       [250, 130],\n",
              "       [204, 130],\n",
              "       [236, 120],\n",
              "       [354, 120]])"
            ]
          },
          "metadata": {
            "tags": []
          },
          "execution_count": 146
        }
      ]
    },
    {
      "cell_type": "code",
      "metadata": {
        "id": "9n_Ew3X4pR7T",
        "colab_type": "code",
        "outputId": "022eec9f-a9f0-483a-c0f0-60cc2baded7c",
        "colab": {
          "base_uri": "https://localhost:8080/",
          "height": 204
        }
      },
      "source": [
        "X = df2[['chol','trestbps']]\n",
        "X.head()"
      ],
      "execution_count": 0,
      "outputs": [
        {
          "output_type": "execute_result",
          "data": {
            "text/html": [
              "<div>\n",
              "<style scoped>\n",
              "    .dataframe tbody tr th:only-of-type {\n",
              "        vertical-align: middle;\n",
              "    }\n",
              "\n",
              "    .dataframe tbody tr th {\n",
              "        vertical-align: top;\n",
              "    }\n",
              "\n",
              "    .dataframe thead th {\n",
              "        text-align: right;\n",
              "    }\n",
              "</style>\n",
              "<table border=\"1\" class=\"dataframe\">\n",
              "  <thead>\n",
              "    <tr style=\"text-align: right;\">\n",
              "      <th></th>\n",
              "      <th>chol</th>\n",
              "      <th>trestbps</th>\n",
              "    </tr>\n",
              "  </thead>\n",
              "  <tbody>\n",
              "    <tr>\n",
              "      <th>0</th>\n",
              "      <td>0.244292</td>\n",
              "      <td>0.481132</td>\n",
              "    </tr>\n",
              "    <tr>\n",
              "      <th>1</th>\n",
              "      <td>0.283105</td>\n",
              "      <td>0.339623</td>\n",
              "    </tr>\n",
              "    <tr>\n",
              "      <th>2</th>\n",
              "      <td>0.178082</td>\n",
              "      <td>0.339623</td>\n",
              "    </tr>\n",
              "    <tr>\n",
              "      <th>3</th>\n",
              "      <td>0.251142</td>\n",
              "      <td>0.245283</td>\n",
              "    </tr>\n",
              "    <tr>\n",
              "      <th>4</th>\n",
              "      <td>0.520548</td>\n",
              "      <td>0.245283</td>\n",
              "    </tr>\n",
              "  </tbody>\n",
              "</table>\n",
              "</div>"
            ],
            "text/plain": [
              "       chol  trestbps\n",
              "0  0.244292  0.481132\n",
              "1  0.283105  0.339623\n",
              "2  0.178082  0.339623\n",
              "3  0.251142  0.245283\n",
              "4  0.520548  0.245283"
            ]
          },
          "metadata": {
            "tags": []
          },
          "execution_count": 147
        }
      ]
    },
    {
      "cell_type": "code",
      "metadata": {
        "id": "V6jljPcT0uoM",
        "colab_type": "code",
        "outputId": "f5fe0492-1ef2-4791-c9f8-a4613c21b299",
        "colab": {
          "base_uri": "https://localhost:8080/",
          "height": 2457
        }
      },
      "source": [
        "xx , yy = np.meshgrid(np.linspace(0,1 , 200), np.linspace(0, 1, 200))\n",
        "\n",
        "for i, (clf_name, clf) in enumerate(classifiers.items()):\n",
        "    clf.fit(X)\n",
        "    # predict raw anomaly score\n",
        "    scores_pred = clf.decision_function(X) * -1\n",
        "        \n",
        "    # prediction of a datapoint category outlier or inlier\n",
        "    y_pred = clf.predict(X)\n",
        "    n_inliers = len(y_pred) - np.count_nonzero(y_pred)\n",
        "    n_outliers = np.count_nonzero(y_pred == 1)\n",
        "    \n",
        "    plt.figure(figsize=(10, 10))\n",
        "    \n",
        "    # copy of dataframe\n",
        "    dfx = df2\n",
        "    dfx['outlier'] = y_pred.tolist()\n",
        "    \n",
        "    # IX1 - inlier feature 1,  IX2 - inlier feature 2\n",
        "    IX1 =  dfx['chol'][dfx['outlier'] == 0].values\n",
        "    IX2 =  dfx['trestbps'][dfx['outlier'] == 0].values\n",
        "    \n",
        "    # OX1 - outlier feature 1, OX2 - outlier feature 2\n",
        "    OX1 =  dfx['chol'][dfx['outlier'] == 1].values\n",
        "    OX2 =  dfx['trestbps'][dfx['outlier'] == 1].values\n",
        "         \n",
        "    print('OUTLIERS : ',n_outliers,'INLIERS : ',n_inliers, clf_name)\n",
        "        \n",
        "    # threshold value to consider a datapoint inlier or outlier\n",
        "    threshold = stats.scoreatpercentile(scores_pred,100 * outliers_fraction)\n",
        "        \n",
        "    # decision function calculates the raw anomaly score for every point\n",
        "    Z = clf.decision_function(np.c_[xx.ravel(), yy.ravel()]) * -1\n",
        "    Z = Z.reshape(xx.shape)\n",
        "          \n",
        "    # fill blue map colormap from minimum anomaly score to threshold value\n",
        "    plt.contourf(xx, yy, Z, levels=np.linspace(Z.min(), threshold, 7),cmap=plt.cm.Blues_r)\n",
        "        \n",
        "    # draw red contour line where anomaly score is equal to thresold\n",
        "    a = plt.contour(xx, yy, Z, levels=[threshold],linewidths=2, colors='red')\n",
        "        \n",
        "    # fill orange contour lines where range of anomaly score is from threshold to maximum anomaly score\n",
        "    plt.contourf(xx, yy, Z, levels=[threshold, Z.max()],colors='orange')\n",
        "        \n",
        "    b = plt.scatter(IX1,IX2, c='white',s=20, edgecolor='k')\n",
        "    \n",
        "    c = plt.scatter(OX1,OX2, c='black',s=20, edgecolor='k')\n",
        "       \n",
        "    plt.axis('tight')  \n",
        "    \n",
        "    # loc=2 is used for the top left corner \n",
        "    plt.legend(\n",
        "        [a.collections[0], b,c],\n",
        "        ['learned decision function', 'inliers','outliers'],\n",
        "        prop=matplotlib.font_manager.FontProperties(size=20),\n",
        "        loc=2)\n",
        "      \n",
        "    plt.xlim((0, 1))\n",
        "    plt.ylim((0, 1))\n",
        "    plt.title(clf_name)\n",
        "    plt.show()\n",
        "\n"
      ],
      "execution_count": 0,
      "outputs": [
        {
          "output_type": "stream",
          "text": [
            "OUTLIERS :  18 INLIERS :  285 Angle-based Outlier Detector (ABOD)\n"
          ],
          "name": "stdout"
        },
        {
          "output_type": "display_data",
          "data": {
            "image/png": "[encoded data removed]",
            "text/plain": [
              "<Figure size 720x720 with 1 Axes>"
            ]
          },
          "metadata": {
            "tags": []
          }
        },
        {
          "output_type": "stream",
          "text": [
            "OUTLIERS :  16 INLIERS :  287 Cluster-based Local Outlier Factor (CBLOF)\n"
          ],
          "name": "stdout"
        },
        {
          "output_type": "display_data",
          "data": {
            "image/png": "[encoded data removed]",
            "text/plain": [
              "<Figure size 720x720 with 1 Axes>"
            ]
          },
          "metadata": {
            "tags": []
          }
        },
        {
          "output_type": "stream",
          "text": [
            "OUTLIERS :  16 INLIERS :  287 Histogram-base Outlier Detection (HBOS)\n"
          ],
          "name": "stdout"
        },
        {
          "output_type": "display_data",
          "data": {
            "image/png": "[encoded data removed]",
            "text/plain": [
              "<Figure size 720x720 with 1 Axes>"
            ]
          },
          "metadata": {
            "tags": []
          }
        },
        {
          "output_type": "stream",
          "text": [
            "OUTLIERS :  14 INLIERS :  289 K Nearest Neighbors (KNN)\n"
          ],
          "name": "stdout"
        },
        {
          "output_type": "display_data",
          "data": {
            "image/png": "[encoded data removed]",
            "text/plain": [
              "<Figure size 720x720 with 1 Axes>"
            ]
          },
          "metadata": {
            "tags": []
          }
        }
      ]
    }
  ]
}